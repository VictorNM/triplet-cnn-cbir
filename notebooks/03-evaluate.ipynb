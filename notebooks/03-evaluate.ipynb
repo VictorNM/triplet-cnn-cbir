{
 "cells": [
  {
   "cell_type": "markdown",
   "metadata": {
    "colab_type": "text",
    "id": "hWsHvOsXbaoq"
   },
   "source": [
    "# SETUP"
   ]
  },
  {
   "cell_type": "code",
   "execution_count": 0,
   "metadata": {
    "colab": {},
    "colab_type": "code",
    "id": "2DdlufmlvyFL"
   },
   "outputs": [],
   "source": [
    "GDRIVE_ROOT = '/content/gdrive'\n",
    "trainer = 'Vinh'"
   ]
  },
  {
   "cell_type": "code",
   "execution_count": 2,
   "metadata": {
    "colab": {
     "base_uri": "https://localhost:8080/",
     "height": 34
    },
    "colab_type": "code",
    "executionInfo": {
     "elapsed": 6511,
     "status": "ok",
     "timestamp": 1558883975545,
     "user": {
      "displayName": "Vĩnh Nguyễn Mậu",
      "photoUrl": "https://lh3.googleusercontent.com/-AzQeUNPRcP8/AAAAAAAAAAI/AAAAAAAAAA0/alATI1ep5VU/s64/photo.jpg",
      "userId": "14863606540204610233"
     },
     "user_tz": -420
    },
    "id": "lqrTgFC_WNzZ",
    "outputId": "5602e85c-ca6b-457b-c7ac-ead0c8e4c72d"
   },
   "outputs": [
    {
     "name": "stdout",
     "output_type": "stream",
     "text": [
      "Mounted at /content/gdrive\n"
     ]
    }
   ],
   "source": [
    "from google.colab import drive\n",
    "drive.mount(GDRIVE_ROOT, force_remount=True)"
   ]
  },
  {
   "cell_type": "code",
   "execution_count": 3,
   "metadata": {
    "colab": {
     "base_uri": "https://localhost:8080/",
     "height": 139
    },
    "colab_type": "code",
    "executionInfo": {
     "elapsed": 20247,
     "status": "ok",
     "timestamp": 1558883989320,
     "user": {
      "displayName": "Vĩnh Nguyễn Mậu",
      "photoUrl": "https://lh3.googleusercontent.com/-AzQeUNPRcP8/AAAAAAAAAAI/AAAAAAAAAA0/alATI1ep5VU/s64/photo.jpg",
      "userId": "14863606540204610233"
     },
     "user_tz": -420
    },
    "id": "TZrFjizUsl4D",
    "outputId": "9d16c1b1-28b2-4225-c172-1a7887836369"
   },
   "outputs": [
    {
     "name": "stdout",
     "output_type": "stream",
     "text": [
      "Cloning into 'triplet-cnn-cbir'...\n",
      "remote: Enumerating objects: 8, done.\u001b[K\n",
      "remote: Counting objects: 100% (8/8), done.\u001b[K\n",
      "remote: Compressing objects: 100% (6/6), done.\u001b[K\n",
      "remote: Total 897 (delta 2), reused 4 (delta 2), pack-reused 889\u001b[K\n",
      "Receiving objects: 100% (897/897), 59.16 MiB | 11.64 MiB/s, done.\n",
      "Resolving deltas: 100% (527/527), done.\n"
     ]
    }
   ],
   "source": [
    "!rm -r triplet-cnn-cbir\n",
    "!git clone https://github.com/VictorNM/triplet-cnn-cbir.git"
   ]
  },
  {
   "cell_type": "code",
   "execution_count": 4,
   "metadata": {
    "colab": {
     "base_uri": "https://localhost:8080/",
     "height": 34
    },
    "colab_type": "code",
    "executionInfo": {
     "elapsed": 20816,
     "status": "ok",
     "timestamp": 1558883989914,
     "user": {
      "displayName": "Vĩnh Nguyễn Mậu",
      "photoUrl": "https://lh3.googleusercontent.com/-AzQeUNPRcP8/AAAAAAAAAAI/AAAAAAAAAA0/alATI1ep5VU/s64/photo.jpg",
      "userId": "14863606540204610233"
     },
     "user_tz": -420
    },
    "id": "3ZnPRqyeY4eG",
    "outputId": "5b06d30a-e758-488f-83a7-498c119bc471"
   },
   "outputs": [
    {
     "name": "stderr",
     "output_type": "stream",
     "text": [
      "Using TensorFlow backend.\n"
     ]
    }
   ],
   "source": [
    "import sys\n",
    "sys.path.append('triplet-cnn-cbir')\n",
    "\n",
    "import os\n",
    "import numpy as np\n",
    "\n",
    "import keras\n",
    "from keras.preprocessing.image import ImageDataGenerator\n",
    "from keras.models import load_model\n",
    "from keras.utils import Sequence\n",
    "\n",
    "from src import data, models, visualization, utils, callbacks, experiment, database"
   ]
  },
  {
   "cell_type": "code",
   "execution_count": 0,
   "metadata": {
    "colab": {},
    "colab_type": "code",
    "id": "AoFWa9raA_M2"
   },
   "outputs": [],
   "source": [
    "DISSERTATION_ROOT = os.path.join(GDRIVE_ROOT, 'My Drive/bku-dissertation')\n",
    "DATA_ROOT = os.path.join(DISSERTATION_ROOT, 'data')\n",
    "DATASET_NAME = '_2_fan_kettle_600_200_200'"
   ]
  },
  {
   "cell_type": "markdown",
   "metadata": {
    "colab_type": "text",
    "id": "VZzyXl_wbdx2"
   },
   "source": [
    "# RUN"
   ]
  },
  {
   "cell_type": "markdown",
   "metadata": {
    "colab_type": "text",
    "id": "sjLjs6dX0pHe"
   },
   "source": [
    "## Load models"
   ]
  },
  {
   "cell_type": "code",
   "execution_count": 6,
   "metadata": {
    "colab": {
     "base_uri": "https://localhost:8080/",
     "height": 193
    },
    "colab_type": "code",
    "executionInfo": {
     "elapsed": 14065,
     "status": "ok",
     "timestamp": 1558883996281,
     "user": {
      "displayName": "Vĩnh Nguyễn Mậu",
      "photoUrl": "https://lh3.googleusercontent.com/-AzQeUNPRcP8/AAAAAAAAAAI/AAAAAAAAAA0/alATI1ep5VU/s64/photo.jpg",
      "userId": "14863606540204610233"
     },
     "user_tz": -420
    },
    "id": "iIHviR8LDDgG",
    "outputId": "d4914854-0b96-4689-b0a7-721c50899eb7"
   },
   "outputs": [
    {
     "name": "stdout",
     "output_type": "stream",
     "text": [
      "WARNING:tensorflow:From /usr/local/lib/python3.6/dist-packages/tensorflow/python/framework/op_def_library.py:263: colocate_with (from tensorflow.python.framework.ops) is deprecated and will be removed in a future version.\n",
      "Instructions for updating:\n",
      "Colocations handled automatically by placer.\n",
      "WARNING:tensorflow:From /usr/local/lib/python3.6/dist-packages/keras/backend/tensorflow_backend.py:3445: calling dropout (from tensorflow.python.ops.nn_ops) with keep_prob is deprecated and will be removed in a future version.\n",
      "Instructions for updating:\n",
      "Please use `rate` instead of `keep_prob`. Rate should be set to `rate = 1 - keep_prob`.\n",
      "WARNING:tensorflow:From /usr/local/lib/python3.6/dist-packages/tensorflow/python/ops/math_ops.py:3066: to_int32 (from tensorflow.python.ops.math_ops) is deprecated and will be removed in a future version.\n",
      "Instructions for updating:\n",
      "Use tf.cast instead.\n"
     ]
    }
   ],
   "source": [
    "cnn_name = '2019-05-24 21:06:53'\n",
    "cnn_path = os.path.join(DISSERTATION_ROOT, 'model', trainer, cnn_name + '.h5')\n",
    "cnn_classifier = load_model(cnn_path)"
   ]
  },
  {
   "cell_type": "code",
   "execution_count": 0,
   "metadata": {
    "colab": {},
    "colab_type": "code",
    "id": "9dGnjWuKDQ7C"
   },
   "outputs": [],
   "source": [
    "cnn_extractor = models.build_cnn_extractor(cnn_classifier)"
   ]
  },
  {
   "cell_type": "code",
   "execution_count": 8,
   "metadata": {
    "colab": {
     "base_uri": "https://localhost:8080/",
     "height": 72
    },
    "colab_type": "code",
    "executionInfo": {
     "elapsed": 8209,
     "status": "ok",
     "timestamp": 1558883996991,
     "user": {
      "displayName": "Vĩnh Nguyễn Mậu",
      "photoUrl": "https://lh3.googleusercontent.com/-AzQeUNPRcP8/AAAAAAAAAAI/AAAAAAAAAA0/alATI1ep5VU/s64/photo.jpg",
      "userId": "14863606540204610233"
     },
     "user_tz": -420
    },
    "id": "YmgHMq25Hoqu",
    "outputId": "30d66e89-4aba-4707-f2c4-36785b4209f2"
   },
   "outputs": [
    {
     "name": "stderr",
     "output_type": "stream",
     "text": [
      "/usr/local/lib/python3.6/dist-packages/keras/engine/saving.py:292: UserWarning: No training configuration found in save file: the model was *not* compiled. Compile it manually.\n",
      "  warnings.warn('No training configuration found in save file: '\n"
     ]
    }
   ],
   "source": [
    "# load triplet model\n",
    "triplet_extractor_name = 'triplet-' + cnn_name\n",
    "triplet_extractor_path = os.path.join(DISSERTATION_ROOT, 'model', trainer, triplet_extractor_name + '.h5')\n",
    "triplet_extractor = load_model(triplet_extractor_path)"
   ]
  },
  {
   "cell_type": "markdown",
   "metadata": {
    "colab_type": "text",
    "id": "nVInTZyhDqt8"
   },
   "source": [
    "## Load data"
   ]
  },
  {
   "cell_type": "code",
   "execution_count": 9,
   "metadata": {
    "colab": {
     "base_uri": "https://localhost:8080/",
     "height": 34
    },
    "colab_type": "code",
    "executionInfo": {
     "elapsed": 4752,
     "status": "ok",
     "timestamp": 1558883997422,
     "user": {
      "displayName": "Vĩnh Nguyễn Mậu",
      "photoUrl": "https://lh3.googleusercontent.com/-AzQeUNPRcP8/AAAAAAAAAAI/AAAAAAAAAA0/alATI1ep5VU/s64/photo.jpg",
      "userId": "14863606540204610233"
     },
     "user_tz": -420
    },
    "id": "hp6BwtRDKGm1",
    "outputId": "ad0da8b4-4a93-412b-95e0-11fc634962f6"
   },
   "outputs": [
    {
     "name": "stdout",
     "output_type": "stream",
     "text": [
      "Found 400 images belonging to 2 classes.\n"
     ]
    }
   ],
   "source": [
    "input_size = (224, 224)\n",
    "\n",
    "test_path = '/content/gdrive/My Drive/bku-dissertation/data/raw/_2_fan_kettle_600_200_200/test'\n",
    "\n",
    "test_datagen = ImageDataGenerator(rescale=1./255)\n",
    "test_generator = test_datagen.flow_from_directory(test_path, input_size)"
   ]
  },
  {
   "cell_type": "code",
   "execution_count": 0,
   "metadata": {
    "colab": {},
    "colab_type": "code",
    "id": "mGgjMPxms7OD"
   },
   "outputs": [],
   "source": [
    "x_test, y_test = data.convert_generator_to_data(test_generator)"
   ]
  },
  {
   "cell_type": "markdown",
   "metadata": {
    "colab_type": "text",
    "id": "EBN0GwHGDswM"
   },
   "source": [
    "## Evaluate"
   ]
  },
  {
   "cell_type": "code",
   "execution_count": 11,
   "metadata": {
    "colab": {
     "base_uri": "https://localhost:8080/",
     "height": 52
    },
    "colab_type": "code",
    "executionInfo": {
     "elapsed": 276199,
     "status": "ok",
     "timestamp": 1558884275112,
     "user": {
      "displayName": "Vĩnh Nguyễn Mậu",
      "photoUrl": "https://lh3.googleusercontent.com/-AzQeUNPRcP8/AAAAAAAAAAI/AAAAAAAAAA0/alATI1ep5VU/s64/photo.jpg",
      "userId": "14863606540204610233"
     },
     "user_tz": -420
    },
    "id": "UP85OAxJDyq8",
    "outputId": "d3b18617-52dd-4e17-a5b2-f6bbc3b6b7bc"
   },
   "outputs": [
    {
     "name": "stdout",
     "output_type": "stream",
     "text": [
      "loss: 0.19579541862010955\n",
      "accuracy 0.94\n"
     ]
    }
   ],
   "source": [
    "scores = cnn_classifier.evaluate_generator(test_generator, steps=len(test_generator))\n",
    "print('loss:', scores[0])\n",
    "print('accuracy', scores[1])"
   ]
  },
  {
   "cell_type": "code",
   "execution_count": 13,
   "metadata": {
    "colab": {
     "base_uri": "https://localhost:8080/",
     "height": 208
    },
    "colab_type": "code",
    "executionInfo": {
     "elapsed": 965417,
     "status": "ok",
     "timestamp": 1558885470119,
     "user": {
      "displayName": "Vĩnh Nguyễn Mậu",
      "photoUrl": "https://lh3.googleusercontent.com/-AzQeUNPRcP8/AAAAAAAAAAI/AAAAAAAAAA0/alATI1ep5VU/s64/photo.jpg",
      "userId": "14863606540204610233"
     },
     "user_tz": -420
    },
    "id": "ItUxl4oWJNn7",
    "outputId": "ad9a56e5-58d6-4983-f894-a0540029e9f4"
   },
   "outputs": [
    {
     "name": "stdout",
     "output_type": "stream",
     "text": [
      "Scores before triplet:\n",
      "P@10: 0.9230000000000002\n",
      "P@20: 0.914375\n",
      "P@30: 0.904\n",
      "P@40: 0.8955625\n",
      "P@50: 0.8905000000000001\n",
      "P@10: 0.9222500000000001\n",
      "P@20: 0.91375\n",
      "P@30: 0.9015000000000001\n",
      "P@40: 0.8927499999999999\n",
      "P@50: 0.8870000000000001\n"
     ]
    }
   ],
   "source": [
    "print('Scores before triplet:')\n",
    "\n",
    "mAP_normal = experiment.mAP_normal(cnn_extractor, x=x_test, y=y_test)\n",
    "print('mAP without Kmeans:', mAP_normal)\n",
    "\n",
    "mAP_kmeans = experiment.mAP_kmeans(cnn_extractor, x=x_test, y=y_test)\n",
    "print('mAP with Kmeans:', mAP_kmeans)\n",
    "\n",
    "ks = [10, 20, 30, 40, 50]\n",
    "p_at_ks = []\n",
    "for k in ks:\n",
    "  p_at_k = experiment.mean_precision_at_k(\n",
    "      extractor=cnn_extractor,\n",
    "      x=x_test,\n",
    "      y=y_test,\n",
    "      k=k\n",
    "  )\n",
    "  p_at_ks.append(p_at_k)  \n",
    "  print('P@{}: {}'.format(k, p_at_k))\n",
    "  \n",
    "for k in ks:\n",
    "  p_at_k = experiment.mean_precision_at_k_kmeans(\n",
    "      extractor=cnn_extractor,\n",
    "      x=x_test,\n",
    "      y=y_test,\n",
    "      k=k\n",
    "  )\n",
    "  p_at_ks.append(p_at_k)  \n",
    "  print('P@{}: {}'.format(k, p_at_k))"
   ]
  },
  {
   "cell_type": "code",
   "execution_count": 0,
   "metadata": {
    "colab": {},
    "colab_type": "code",
    "id": "fX6ZgbEj1-JU"
   },
   "outputs": [],
   "source": [
    "triplet_extractor.summary()"
   ]
  },
  {
   "cell_type": "code",
   "execution_count": 16,
   "metadata": {
    "colab": {
     "base_uri": "https://localhost:8080/",
     "height": 208
    },
    "colab_type": "code",
    "executionInfo": {
     "elapsed": 907580,
     "status": "ok",
     "timestamp": 1558886884260,
     "user": {
      "displayName": "Vĩnh Nguyễn Mậu",
      "photoUrl": "https://lh3.googleusercontent.com/-AzQeUNPRcP8/AAAAAAAAAAI/AAAAAAAAAA0/alATI1ep5VU/s64/photo.jpg",
      "userId": "14863606540204610233"
     },
     "user_tz": -420
    },
    "id": "Kbp5Qu0sEesN",
    "outputId": "3166daa8-ba37-40ad-f58b-8fc15e4ebe67"
   },
   "outputs": [
    {
     "name": "stdout",
     "output_type": "stream",
     "text": [
      "Scores after triplet:\n",
      "P@10: 0.921\n",
      "P@20: 0.9166249999999999\n",
      "P@30: 0.91\n",
      "P@40: 0.9051250000000001\n",
      "P@50: 0.9007000000000001\n",
      "P@10: 0.92\n",
      "P@20: 0.9158750000000001\n",
      "P@30: 0.9066666666666667\n",
      "P@40: 0.8994374999999999\n",
      "P@50: 0.8919\n"
     ]
    }
   ],
   "source": [
    "print('Scores after triplet:')\n",
    "\n",
    "mAP_normal = experiment.mAP_normal(triplet_extractor, x=x_test, y=y_test)\n",
    "print('mAP without Kmeans:', mAP_normal)\n",
    "\n",
    "mAP_kmeans = experiment.mAP_kmeans(triplet_extractor, x=x_test, y=y_test)\n",
    "print('mAP with Kmeans:', mAP_kmeans)\n",
    "\n",
    "ks = [10, 20, 30, 40, 50]\n",
    "p_at_ks = []\n",
    "for k in ks:\n",
    "  p_at_k = experiment.mean_precision_at_k(\n",
    "      extractor=triplet_extractor,\n",
    "      x=x_test,\n",
    "      y=y_test,\n",
    "      k=k\n",
    "  )\n",
    "  p_at_ks.append(p_at_k)  \n",
    "  print('P@{}: {}'.format(k, p_at_k))\n",
    "  \n",
    "for k in ks:\n",
    "  p_at_k = experiment.mean_precision_at_k_kmeans(\n",
    "      extractor=triplet_extractor,\n",
    "      x=x_test,\n",
    "      y=y_test,\n",
    "      k=k\n",
    "  )\n",
    "  p_at_ks.append(p_at_k)  \n",
    "  print('P@{}: {}'.format(k, p_at_k))"
   ]
  }
 ],
 "metadata": {
  "accelerator": "GPU",
  "colab": {
   "collapsed_sections": [],
   "name": "04-evaluate.ipynb",
   "provenance": [],
   "toc_visible": true,
   "version": "0.3.2"
  },
  "kernelspec": {
   "display_name": "Python 3",
   "language": "python",
   "name": "python3"
  },
  "language_info": {
   "codemirror_mode": {
    "name": "ipython",
    "version": 3
   },
   "file_extension": ".py",
   "mimetype": "text/x-python",
   "name": "python",
   "nbconvert_exporter": "python",
   "pygments_lexer": "ipython3",
   "version": "3.6.7"
  }
 },
 "nbformat": 4,
 "nbformat_minor": 1
}
