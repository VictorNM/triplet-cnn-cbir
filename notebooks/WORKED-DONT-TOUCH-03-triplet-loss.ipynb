{
 "cells": [
  {
   "cell_type": "markdown",
   "metadata": {
    "colab_type": "text",
    "id": "hWsHvOsXbaoq"
   },
   "source": [
    "# SETUP"
   ]
  },
  {
   "cell_type": "code",
   "execution_count": 0,
   "metadata": {
    "colab": {},
    "colab_type": "code",
    "id": "2DdlufmlvyFL"
   },
   "outputs": [],
   "source": [
    "GDRIVE_ROOT = '/content/gdrive'\n",
    "trainer = 'Vinh'"
   ]
  },
  {
   "cell_type": "code",
   "execution_count": 3,
   "metadata": {
    "colab": {
     "base_uri": "https://localhost:8080/",
     "height": 34
    },
    "colab_type": "code",
    "executionInfo": {
     "elapsed": 23370,
     "status": "ok",
     "timestamp": 1558342622266,
     "user": {
      "displayName": "Vĩnh Nguyễn Mậu",
      "photoUrl": "https://lh3.googleusercontent.com/-AzQeUNPRcP8/AAAAAAAAAAI/AAAAAAAAAA0/alATI1ep5VU/s64/photo.jpg",
      "userId": "14863606540204610233"
     },
     "user_tz": -420
    },
    "id": "lqrTgFC_WNzZ",
    "outputId": "ebae409f-a03c-4770-aac3-c3dddb3b79b7"
   },
   "outputs": [
    {
     "name": "stdout",
     "output_type": "stream",
     "text": [
      "Mounted at /content/gdrive\n"
     ]
    }
   ],
   "source": [
    "from google.colab import drive\n",
    "drive.mount(GDRIVE_ROOT, force_remount=True)"
   ]
  },
  {
   "cell_type": "code",
   "execution_count": 4,
   "metadata": {
    "colab": {
     "base_uri": "https://localhost:8080/",
     "height": 139
    },
    "colab_type": "code",
    "executionInfo": {
     "elapsed": 35183,
     "status": "ok",
     "timestamp": 1558342637106,
     "user": {
      "displayName": "Vĩnh Nguyễn Mậu",
      "photoUrl": "https://lh3.googleusercontent.com/-AzQeUNPRcP8/AAAAAAAAAAI/AAAAAAAAAA0/alATI1ep5VU/s64/photo.jpg",
      "userId": "14863606540204610233"
     },
     "user_tz": -420
    },
    "id": "TZrFjizUsl4D",
    "outputId": "926f6efe-bbb9-4de4-c62d-2d560aa5fffa"
   },
   "outputs": [
    {
     "name": "stdout",
     "output_type": "stream",
     "text": [
      "Cloning into 'triplet-cnn-cbir'...\n",
      "remote: Enumerating objects: 196, done.\u001b[K\n",
      "remote: Counting objects: 100% (196/196), done.\u001b[K\n",
      "remote: Compressing objects: 100% (112/112), done.\u001b[K\n",
      "remote: Total 730 (delta 120), reused 156 (delta 82), pack-reused 534\u001b[K\n",
      "Receiving objects: 100% (730/730), 27.38 MiB | 3.97 MiB/s, done.\n",
      "Resolving deltas: 100% (411/411), done.\n"
     ]
    }
   ],
   "source": [
    "!rm -r triplet-cnn-cbir\n",
    "!git clone https://github.com/VictorNM/triplet-cnn-cbir.git"
   ]
  },
  {
   "cell_type": "code",
   "execution_count": 5,
   "metadata": {
    "colab": {
     "base_uri": "https://localhost:8080/",
     "height": 34
    },
    "colab_type": "code",
    "executionInfo": {
     "elapsed": 25591,
     "status": "ok",
     "timestamp": 1558342639353,
     "user": {
      "displayName": "Vĩnh Nguyễn Mậu",
      "photoUrl": "https://lh3.googleusercontent.com/-AzQeUNPRcP8/AAAAAAAAAAI/AAAAAAAAAA0/alATI1ep5VU/s64/photo.jpg",
      "userId": "14863606540204610233"
     },
     "user_tz": -420
    },
    "id": "3ZnPRqyeY4eG",
    "outputId": "d98662ef-9276-40cb-b30b-c6f31514c97b"
   },
   "outputs": [
    {
     "name": "stderr",
     "output_type": "stream",
     "text": [
      "Using TensorFlow backend.\n"
     ]
    }
   ],
   "source": [
    "import sys\n",
    "sys.path.append('triplet-cnn-cbir')\n",
    "\n",
    "import os\n",
    "import numpy as np\n",
    "\n",
    "import keras\n",
    "from keras.preprocessing.image import ImageDataGenerator\n",
    "from keras.models import Model\n",
    "from keras.models import load_model\n",
    "from keras.optimizers import SGD\n",
    "from keras.utils import Sequence\n",
    "\n",
    "from src import data, models, visualization, utils, callbacks, experiment"
   ]
  },
  {
   "cell_type": "markdown",
   "metadata": {
    "colab_type": "text",
    "id": "VZzyXl_wbdx2"
   },
   "source": [
    "# RUN"
   ]
  },
  {
   "cell_type": "markdown",
   "metadata": {
    "colab_type": "text",
    "id": "mmlTudvvbf-p"
   },
   "source": [
    "## Define function and class"
   ]
  },
  {
   "cell_type": "code",
   "execution_count": 0,
   "metadata": {
    "colab": {},
    "colab_type": "code",
    "id": "Ct9hzWoJbjS5"
   },
   "outputs": [],
   "source": [
    "def pairwise_distances(features, square=False):\n",
    "  dot_product = np.matmul(features, np.transpose(features))\n",
    "  square_norm = K.diag_part(dot_product)\n",
    "  distances = np.expand_dims(square_norm, 0) - 2.0 * dot_product + np.expand_dims(square_norm, 1)\n",
    "  distances = np.maximum(distances, 0.0)\n",
    "  if not squared:\n",
    "    mask = np.to_float(np.equal(distances, 0.0))\n",
    "    distances = distances + mask * 1e-16\n",
    "\n",
    "    distances = np.sqrt(distances)\n",
    "\n",
    "    distances = distances * (1.0 - mask)\n",
    "\n",
    "  return distances"
   ]
  },
  {
   "cell_type": "code",
   "execution_count": 0,
   "metadata": {
    "colab": {},
    "colab_type": "code",
    "id": "2OuvmKtVdVCw"
   },
   "outputs": [],
   "source": [
    "def _get_anchor_positive_triplet_mask(labels):\n",
    "  indices_equal = np.cast(np.eye(np.shape(labels)[0]), np.bool)\n",
    "  indices_not_equal = np.logical_not(indices_equal)\n",
    "  \n",
    "  labels_equal = np.equal(np.expand_dims(labels, 0), np.expand_dims(labels, 1))\n",
    "  mask = np.logical_and(indices_not_equal, labels_equal)\n",
    "  \n",
    "  return mask\n",
    "\n",
    "def _get_anchor_negative_triplet_mask(labels):\n",
    "  labels_equal = np.equal(np.expand_dims(labels, 0), np.expand_dims(labels, 1))\n",
    "  \n",
    "  mask = np.logical_not(labels_equal)\n",
    "\n",
    "  return mask"
   ]
  },
  {
   "cell_type": "code",
   "execution_count": 0,
   "metadata": {
    "colab": {},
    "colab_type": "code",
    "id": "oxgYiHDgdsUB"
   },
   "outputs": [],
   "source": [
    "triplet_loss()\n",
    "\n",
    "def triplet_loss(y_true, y_pred):\n",
    "  margin = 0.2\n",
    "  a, p, n = inputs\n",
    "  \n",
    "  p_dist = K.sqrt(K.sum(K.square(a-p), axis=-1))\n",
    "  n_dist = K.sqrt(K.sum(K.square(a-n), axis=-1))\n",
    "  \n",
    "  loss = K.mean(K.maximum(p_dist - n_dist + self.alpha, 0), axis=0)\n",
    "  \n",
    "  return loss  "
   ]
  },
  {
   "cell_type": "code",
   "execution_count": 10,
   "metadata": {
    "colab": {
     "base_uri": "https://localhost:8080/",
     "height": 141
    },
    "colab_type": "code",
    "executionInfo": {
     "elapsed": 50526,
     "status": "ok",
     "timestamp": 1558344310623,
     "user": {
      "displayName": "Vĩnh Nguyễn Mậu",
      "photoUrl": "https://lh3.googleusercontent.com/-AzQeUNPRcP8/AAAAAAAAAAI/AAAAAAAAAA0/alATI1ep5VU/s64/photo.jpg",
      "userId": "14863606540204610233"
     },
     "user_tz": -420
    },
    "id": "S78zsqUzWdpi",
    "outputId": "60b1883e-fce3-4bce-9915-b4ec0169e2f5"
   },
   "outputs": [
    {
     "name": "stdout",
     "output_type": "stream",
     "text": [
      "WARNING:tensorflow:From /usr/local/lib/python3.6/dist-packages/tensorflow/python/framework/op_def_library.py:263: colocate_with (from tensorflow.python.framework.ops) is deprecated and will be removed in a future version.\n",
      "Instructions for updating:\n",
      "Colocations handled automatically by placer.\n",
      "WARNING:tensorflow:From /usr/local/lib/python3.6/dist-packages/tensorflow/python/ops/math_ops.py:3066: to_int32 (from tensorflow.python.ops.math_ops) is deprecated and will be removed in a future version.\n",
      "Instructions for updating:\n",
      "Use tf.cast instead.\n"
     ]
    }
   ],
   "source": [
    "cnn_clf_path = '/content/gdrive/My Drive/bku-dissertation/model/Vinh/2019-05-17 00:19:54.350018.h5'\n",
    "cnn_classifier = load_model(cnn_clf_path )"
   ]
  },
  {
   "cell_type": "code",
   "execution_count": 0,
   "metadata": {
    "colab": {},
    "colab_type": "code",
    "id": "mlausluqWpBu"
   },
   "outputs": [],
   "source": [
    "cnn_extractor = models.build_cnn_extractor(cnn_classifier, features_layer='fc2')\n",
    "\n",
    "for i in range(len(cnn_extractor.layers)):\n",
    "  if cnn_extractor.layers[i].name != 'fc2' and cnn_extractor.layers[i].name != 'fc1':\n",
    "    cnn_extractor.layers[i].trainable = False"
   ]
  },
  {
   "cell_type": "code",
   "execution_count": 16,
   "metadata": {
    "colab": {
     "base_uri": "https://localhost:8080/",
     "height": 34
    },
    "colab_type": "code",
    "executionInfo": {
     "elapsed": 10270,
     "status": "ok",
     "timestamp": 1558344382661,
     "user": {
      "displayName": "Vĩnh Nguyễn Mậu",
      "photoUrl": "https://lh3.googleusercontent.com/-AzQeUNPRcP8/AAAAAAAAAAI/AAAAAAAAAA0/alATI1ep5VU/s64/photo.jpg",
      "userId": "14863606540204610233"
     },
     "user_tz": -420
    },
    "id": "jGkEHY2kuQj_",
    "outputId": "7849c66a-acdc-48f0-c666-2ee756f9e6ba"
   },
   "outputs": [
    {
     "name": "stdout",
     "output_type": "stream",
     "text": [
      "0.7672082483805169\n"
     ]
    }
   ],
   "source": [
    "mAP_normal = experiment.mAP_normal(\n",
    "    extractor=cnn_extractor,\n",
    "    db=(x_valid, y_valid),\n",
    "    queries=(x_valid, y_valid)\n",
    ")\n",
    "print(mAP_normal)"
   ]
  },
  {
   "cell_type": "code",
   "execution_count": 17,
   "metadata": {
    "colab": {
     "base_uri": "https://localhost:8080/",
     "height": 34
    },
    "colab_type": "code",
    "executionInfo": {
     "elapsed": 8191,
     "status": "ok",
     "timestamp": 1558344397809,
     "user": {
      "displayName": "Vĩnh Nguyễn Mậu",
      "photoUrl": "https://lh3.googleusercontent.com/-AzQeUNPRcP8/AAAAAAAAAAI/AAAAAAAAAA0/alATI1ep5VU/s64/photo.jpg",
      "userId": "14863606540204610233"
     },
     "user_tz": -420
    },
    "id": "yiEv04u4uUxR",
    "outputId": "910f4901-e372-4b10-9f4f-696c7f24d901"
   },
   "outputs": [
    {
     "name": "stdout",
     "output_type": "stream",
     "text": [
      "0.7714395649592363\n"
     ]
    }
   ],
   "source": [
    "mAP_kmeans = experiment.mAP_kmeans(\n",
    "    extractor=cnn_extractor,\n",
    "    db=(x_valid, y_valid),\n",
    "    queries=(x_valid, y_valid)\n",
    ")\n",
    "\n",
    "print(mAP_kmeans)"
   ]
  },
  {
   "cell_type": "code",
   "execution_count": 0,
   "metadata": {
    "colab": {},
    "colab_type": "code",
    "id": "4rOIbDVEW0Lt"
   },
   "outputs": [],
   "source": [
    "from keras.layers import Layer, Input\n",
    "import keras.backend as K\n",
    "\n",
    "class TripletLossLayer(Layer):\n",
    "    def __init__(self, alpha, **kwargs):\n",
    "        self.alpha = alpha\n",
    "        super(TripletLossLayer, self).__init__(**kwargs)\n",
    "    \n",
    "    def triplet_loss(self, inputs):\n",
    "        a, p, n = inputs\n",
    "        p_dist = K.sqrt(K.sum(K.square(a-p), axis=-1))\n",
    "        n_dist = K.sqrt(K.sum(K.square(a-n), axis=-1))\n",
    "        return K.mean(K.maximum(p_dist - n_dist + self.alpha, 0), axis=0)\n",
    "    \n",
    "    def call(self, inputs):\n",
    "        loss = self.triplet_loss(inputs)\n",
    "        self.add_loss(loss)\n",
    "        return loss"
   ]
  },
  {
   "cell_type": "code",
   "execution_count": 19,
   "metadata": {
    "colab": {
     "base_uri": "https://localhost:8080/",
     "height": 402
    },
    "colab_type": "code",
    "executionInfo": {
     "elapsed": 1098,
     "status": "ok",
     "timestamp": 1558344405270,
     "user": {
      "displayName": "Vĩnh Nguyễn Mậu",
      "photoUrl": "https://lh3.googleusercontent.com/-AzQeUNPRcP8/AAAAAAAAAAI/AAAAAAAAAA0/alATI1ep5VU/s64/photo.jpg",
      "userId": "14863606540204610233"
     },
     "user_tz": -420
    },
    "id": "s5cBHsdbW4jN",
    "outputId": "52426f6f-3da7-4203-fb84-f89bd022deac"
   },
   "outputs": [
    {
     "name": "stdout",
     "output_type": "stream",
     "text": [
      "__________________________________________________________________________________________________\n",
      "Layer (type)                    Output Shape         Param #     Connected to                     \n",
      "==================================================================================================\n",
      "input_1 (InputLayer)            (None, 224, 224, 3)  0                                            \n",
      "__________________________________________________________________________________________________\n",
      "input_2 (InputLayer)            (None, 224, 224, 3)  0                                            \n",
      "__________________________________________________________________________________________________\n",
      "input_3 (InputLayer)            (None, 224, 224, 3)  0                                            \n",
      "__________________________________________________________________________________________________\n",
      "cnn_extractor (Model)           (None, 4096)         134260544   input_1[0][0]                    \n",
      "                                                                 input_2[0][0]                    \n",
      "                                                                 input_3[0][0]                    \n",
      "__________________________________________________________________________________________________\n",
      "triplet_loss_layer (TripletLoss [(None, 4096), (None 0           cnn_extractor[1][0]              \n",
      "                                                                 cnn_extractor[2][0]              \n",
      "                                                                 cnn_extractor[3][0]              \n",
      "==================================================================================================\n",
      "Total params: 134,260,544\n",
      "Trainable params: 119,545,856\n",
      "Non-trainable params: 14,714,688\n",
      "__________________________________________________________________________________________________\n"
     ]
    }
   ],
   "source": [
    "cnn_extractor.name = 'cnn_extractor'\n",
    "\n",
    "a = Input(shape=(224, 224, 3))\n",
    "p = Input(shape=(224, 224, 3))\n",
    "n = Input(shape=(224, 224, 3))\n",
    "a_cnn = cnn_extractor(a)\n",
    "p_cnn = cnn_extractor(p)\n",
    "n_cnn = cnn_extractor(n)\n",
    "\n",
    "triplet_loss_layer = TripletLossLayer(alpha=0.2, name='triplet_loss_layer')([a_cnn, p_cnn, n_cnn])\n",
    "\n",
    "triplet_model = Model(inputs=[a, p, n], outputs=triplet_loss_layer)\n",
    "triplet_model.summary()"
   ]
  },
  {
   "cell_type": "code",
   "execution_count": 0,
   "metadata": {
    "colab": {},
    "colab_type": "code",
    "id": "p2a0mghJYTPe"
   },
   "outputs": [],
   "source": [
    "import time\n",
    "from math import inf\n",
    "def get_triplet_index_hard(features, labels):\n",
    "    triplets = []\n",
    "\n",
    "    for i in range(len(labels)):\n",
    "        max_pos_d = 0\n",
    "        max_pos_idx = None\n",
    "        min_neg_d = inf\n",
    "        min_neg_idx = None\n",
    "\n",
    "        for j in range(len(labels)):\n",
    "            if j == i:  # ignore the same image\n",
    "                continue\n",
    "\n",
    "            distance = np.sqrt(np.sum(np.square(features[i] - features[j])))\n",
    "\n",
    "            if labels[j] == labels[i]:  # positive\n",
    "                if distance > max_pos_d:\n",
    "                    max_pos_d = distance\n",
    "                    max_pos_idx = j\n",
    "\n",
    "            else:  # negative\n",
    "                if distance < min_neg_d:\n",
    "                    min_neg_d = distance\n",
    "                    min_neg_idx = j\n",
    "\n",
    "        if max_pos_d + 0.2 >= min_neg_d:\n",
    "          triplets.append([i, max_pos_idx, min_neg_idx])\n",
    "        \n",
    "    print('Len triplets {} / {}'.format(len(triplets), len(labels)))\n",
    "    return triplets"
   ]
  },
  {
   "cell_type": "code",
   "execution_count": 21,
   "metadata": {
    "colab": {
     "base_uri": "https://localhost:8080/",
     "height": 52
    },
    "colab_type": "code",
    "executionInfo": {
     "elapsed": 1042,
     "status": "ok",
     "timestamp": 1558344415778,
     "user": {
      "displayName": "Vĩnh Nguyễn Mậu",
      "photoUrl": "https://lh3.googleusercontent.com/-AzQeUNPRcP8/AAAAAAAAAAI/AAAAAAAAAA0/alATI1ep5VU/s64/photo.jpg",
      "userId": "14863606540204610233"
     },
     "user_tz": -420
    },
    "id": "SXWU1hqrYl6l",
    "outputId": "ff69f543-d157-46b0-982b-e2ed7b1154df"
   },
   "outputs": [
    {
     "name": "stdout",
     "output_type": "stream",
     "text": [
      "Found 600 images belonging to 1 classes.\n",
      "Found 600 images belonging to 1 classes.\n"
     ]
    }
   ],
   "source": [
    "input_size = (224, 224)\n",
    "\n",
    "train_path = '/content/gdrive/My Drive/bku-dissertation/data/raw/_2_fan_kettle_600_200_200/train'\n",
    "\n",
    "train_datagen = ImageDataGenerator(rescale=1./255)\n",
    "\n",
    "train_generator_0 = train_datagen.flow_from_directory(\n",
    "    train_path, \n",
    "    input_size, \n",
    "    batch_size=16,\n",
    "    classes=['fan'])\n",
    "\n",
    "train_generator_1 = train_datagen.flow_from_directory(\n",
    "    train_path, \n",
    "    input_size, \n",
    "    batch_size=16, \n",
    "    classes=['kettle']\n",
    ")"
   ]
  },
  {
   "cell_type": "code",
   "execution_count": 0,
   "metadata": {
    "colab": {},
    "colab_type": "code",
    "id": "j3mvSJ-I1UEk"
   },
   "outputs": [],
   "source": [
    "train_generator_1"
   ]
  },
  {
   "cell_type": "code",
   "execution_count": 0,
   "metadata": {
    "colab": {},
    "colab_type": "code",
    "id": "a3R23z5jX3xk"
   },
   "outputs": [],
   "source": [
    "def get_triplets_images(triplets_index, x):\n",
    "  num_triplets = len(triplets_index)\n",
    "  image_shape = x.shape[1:]\n",
    "  anchors = np.empty(shape=(0,) + image_shape)\n",
    "  positives = np.empty(shape=(0,) + image_shape)\n",
    "  negatives = np.empty(shape=(0,) + image_shape)\n",
    "  \n",
    "  for i in range(num_triplets):\n",
    "    ai, pi, ni = triplets_index[i]\n",
    "#     print(ai, pi, ni)\n",
    "    \n",
    "    if pi is None or ni is None:\n",
    "      continue\n",
    "      \n",
    "    a = x[ai]\n",
    "    p = x[pi]\n",
    "    n = x[ni]\n",
    "    \n",
    "    anchors = np.append(anchors, np.expand_dims(a, axis=0), axis=0)\n",
    "    positives = np.append(positives, np.expand_dims(p, axis=0), axis=0)\n",
    "    negatives = np.append(negatives, np.expand_dims(n, axis=0), axis=0)\n",
    "    \n",
    "  return anchors, positives, negatives"
   ]
  },
  {
   "cell_type": "code",
   "execution_count": 0,
   "metadata": {
    "colab": {},
    "colab_type": "code",
    "id": "fw8J_yKKxUgV"
   },
   "outputs": [],
   "source": [
    "class TripletGenerator(Sequence):\n",
    "  def __init__(self, extractor, gen0, gen1):\n",
    "    self.gen0 = gen0\n",
    "    self.gen0.reset()\n",
    "    self.gen1 = gen1\n",
    "    self.gen1.reset()\n",
    "    self.extractor = extractor\n",
    "    self.extractor._make_predict_function()\n",
    "\n",
    "  def __len__(self):\n",
    "    return min(self.gen0.__len__(), self.gen1.__len__())\n",
    "  \n",
    "  def __getitem__(self, idx):\n",
    "    x0_batch, y0_batch = self.gen0.__getitem__(idx)\n",
    "    x1_batch, y1_batch = self.gen1.__getitem__(idx)\n",
    "    \n",
    "    y0_batch = np.argmax(y0_batch, axis=1)\n",
    "    y1_batch = np.argmax(y1_batch, axis=1) + 1\n",
    "    \n",
    "    x_batch = np.concatenate((x0_batch, x1_batch))\n",
    "    y_batch = np.concatenate((y0_batch, y1_batch))\n",
    "    \n",
    "    feature_batch = self.extractor.predict(x_batch)    \n",
    "    \n",
    "    triplet_index_batch = get_triplet_index_hard(feature_batch, y_batch)\n",
    "    a, p, n = get_triplets_images(triplet_index_batch, x_batch)\n",
    "    \n",
    "    return [a, p, n], None\n",
    "  \n",
    "  def on_epoch_end(self):\n",
    "    self.gen0.reset()\n",
    "    self.gen1.reset()\n",
    "  \n",
    "train_triplet_generator = TripletGenerator(\n",
    "    triplet_model.get_layer('cnn_extractor'),\n",
    "    train_generator_0,\n",
    "    train_generator_1\n",
    ")"
   ]
  },
  {
   "cell_type": "code",
   "execution_count": 0,
   "metadata": {
    "colab": {
     "base_uri": "https://localhost:8080/",
     "height": 34
    },
    "colab_type": "code",
    "executionInfo": {
     "elapsed": 932,
     "status": "ok",
     "timestamp": 1558315182652,
     "user": {
      "displayName": "Vĩnh Nguyễn Mậu",
      "photoUrl": "https://lh3.googleusercontent.com/-AzQeUNPRcP8/AAAAAAAAAAI/AAAAAAAAAA0/alATI1ep5VU/s64/photo.jpg",
      "userId": "14863606540204610233"
     },
     "user_tz": -420
    },
    "id": "OgFid5fk0Z-F",
    "outputId": "2c5abd40-eb09-4bf9-b069-405880eb2bf4"
   },
   "outputs": [
    {
     "data": {
      "text/plain": [
       "38"
      ]
     },
     "execution_count": 41,
     "metadata": {
      "tags": []
     },
     "output_type": "execute_result"
    }
   ],
   "source": [
    "train_triplet_generator.__len__()"
   ]
  },
  {
   "cell_type": "code",
   "execution_count": 0,
   "metadata": {
    "colab": {},
    "colab_type": "code",
    "id": "stbvsK1ZXrVe"
   },
   "outputs": [],
   "source": [
    "# compile model\n",
    "optimizer_params = {\n",
    "    \"lr\": 0.001\n",
    "}\n",
    "\n",
    "opt = SGD(**optimizer_params)\n",
    "\n",
    "triplet_model.compile(loss=None, optimizer=opt)"
   ]
  },
  {
   "cell_type": "code",
   "execution_count": 25,
   "metadata": {
    "colab": {
     "base_uri": "https://localhost:8080/",
     "height": 34
    },
    "colab_type": "code",
    "executionInfo": {
     "elapsed": 1295,
     "status": "ok",
     "timestamp": 1558344435524,
     "user": {
      "displayName": "Vĩnh Nguyễn Mậu",
      "photoUrl": "https://lh3.googleusercontent.com/-AzQeUNPRcP8/AAAAAAAAAAI/AAAAAAAAAA0/alATI1ep5VU/s64/photo.jpg",
      "userId": "14863606540204610233"
     },
     "user_tz": -420
    },
    "id": "Z6S5IeL2i2ep",
    "outputId": "45d79695-82ce-4710-8d1b-091407459950"
   },
   "outputs": [
    {
     "data": {
      "text/plain": [
       "4"
      ]
     },
     "execution_count": 25,
     "metadata": {
      "tags": []
     },
     "output_type": "execute_result"
    }
   ],
   "source": [
    "import gc\n",
    "gc.collect()"
   ]
  },
  {
   "cell_type": "code",
   "execution_count": 27,
   "metadata": {
    "colab": {
     "base_uri": "https://localhost:8080/",
     "height": 208
    },
    "colab_type": "code",
    "executionInfo": {
     "elapsed": 314762,
     "status": "ok",
     "timestamp": 1558344762743,
     "user": {
      "displayName": "Vĩnh Nguyễn Mậu",
      "photoUrl": "https://lh3.googleusercontent.com/-AzQeUNPRcP8/AAAAAAAAAAI/AAAAAAAAAA0/alATI1ep5VU/s64/photo.jpg",
      "userId": "14863606540204610233"
     },
     "user_tz": -420
    },
    "id": "u0RJZdi65hrI",
    "outputId": "2e86050c-19c4-4e12-cb14-0957b3586b83"
   },
   "outputs": [
    {
     "name": "stdout",
     "output_type": "stream",
     "text": [
      "Epoch 1/5\n",
      "38/38 [==============================] - 80s 2s/step - loss: 3.3272\n",
      "Epoch 2/5\n",
      "38/38 [==============================] - 65s 2s/step - loss: 1.6355\n",
      "Epoch 3/5\n",
      "38/38 [==============================] - 66s 2s/step - loss: 1.2010\n",
      "Epoch 4/5\n",
      "38/38 [==============================] - 51s 1s/step - loss: 1.0081\n",
      "Epoch 5/5\n",
      "38/38 [==============================] - 51s 1s/step - loss: 0.8315\n"
     ]
    },
    {
     "data": {
      "text/plain": [
       "<keras.callbacks.History at 0x7f43901a9208>"
      ]
     },
     "execution_count": 27,
     "metadata": {
      "tags": []
     },
     "output_type": "execute_result"
    }
   ],
   "source": [
    "triplet_model.fit_generator(train_triplet_generator, epochs=5) "
   ]
  },
  {
   "cell_type": "code",
   "execution_count": 13,
   "metadata": {
    "colab": {
     "base_uri": "https://localhost:8080/",
     "height": 34
    },
    "colab_type": "code",
    "executionInfo": {
     "elapsed": 1061,
     "status": "ok",
     "timestamp": 1558344354737,
     "user": {
      "displayName": "Vĩnh Nguyễn Mậu",
      "photoUrl": "https://lh3.googleusercontent.com/-AzQeUNPRcP8/AAAAAAAAAAI/AAAAAAAAAA0/alATI1ep5VU/s64/photo.jpg",
      "userId": "14863606540204610233"
     },
     "user_tz": -420
    },
    "id": "hp6BwtRDKGm1",
    "outputId": "6fb5943f-eaba-49fb-bbc3-6a27880145ab"
   },
   "outputs": [
    {
     "name": "stdout",
     "output_type": "stream",
     "text": [
      "Found 400 images belonging to 2 classes.\n"
     ]
    }
   ],
   "source": [
    "input_size = (224, 224)\n",
    "\n",
    "valid_path = '/content/gdrive/My Drive/bku-dissertation/data/raw/_2_fan_kettle_600_200_200/valid'\n",
    "\n",
    "valid_datagen = ImageDataGenerator(rescale=1./255)\n",
    "valid_generator = valid_datagen.flow_from_directory(valid_path, input_size)"
   ]
  },
  {
   "cell_type": "code",
   "execution_count": 0,
   "metadata": {
    "colab": {},
    "colab_type": "code",
    "id": "mGgjMPxms7OD"
   },
   "outputs": [],
   "source": [
    "x_valid, y_valid = data.convert_generator_to_data(valid_generator)"
   ]
  },
  {
   "cell_type": "code",
   "execution_count": 15,
   "metadata": {
    "colab": {
     "base_uri": "https://localhost:8080/",
     "height": 52
    },
    "colab_type": "code",
    "executionInfo": {
     "elapsed": 7157,
     "status": "ok",
     "timestamp": 1558344368038,
     "user": {
      "displayName": "Vĩnh Nguyễn Mậu",
      "photoUrl": "https://lh3.googleusercontent.com/-AzQeUNPRcP8/AAAAAAAAAAI/AAAAAAAAAA0/alATI1ep5VU/s64/photo.jpg",
      "userId": "14863606540204610233"
     },
     "user_tz": -420
    },
    "id": "HqxnMPJ0tDLf",
    "outputId": "7a8ac00f-2ac1-427a-c8f5-ace5a9c3a177"
   },
   "outputs": [
    {
     "name": "stdout",
     "output_type": "stream",
     "text": [
      "400/400 [==============================] - 6s 15ms/step\n"
     ]
    },
    {
     "data": {
      "text/plain": [
       "[0.31250551495264517, 0.89]"
      ]
     },
     "execution_count": 15,
     "metadata": {
      "tags": []
     },
     "output_type": "execute_result"
    }
   ],
   "source": [
    "cnn_classifier.evaluate(x_valid, keras.utils.to_categorical(y_valid), 2)"
   ]
  },
  {
   "cell_type": "code",
   "execution_count": 28,
   "metadata": {
    "colab": {
     "base_uri": "https://localhost:8080/",
     "height": 34
    },
    "colab_type": "code",
    "executionInfo": {
     "elapsed": 6399,
     "status": "ok",
     "timestamp": 1558344783918,
     "user": {
      "displayName": "Vĩnh Nguyễn Mậu",
      "photoUrl": "https://lh3.googleusercontent.com/-AzQeUNPRcP8/AAAAAAAAAAI/AAAAAAAAAA0/alATI1ep5VU/s64/photo.jpg",
      "userId": "14863606540204610233"
     },
     "user_tz": -420
    },
    "id": "knx3Vi3z2tg4",
    "outputId": "c35d9a8a-4ca2-40ca-acb1-3731825b170c"
   },
   "outputs": [
    {
     "name": "stdout",
     "output_type": "stream",
     "text": [
      "0.8136425008059011\n"
     ]
    }
   ],
   "source": [
    "mAP_normal = experiment.mAP_normal(\n",
    "    extractor=cnn_extractor,\n",
    "    db=(x_valid, y_valid),\n",
    "    queries=(x_valid, y_valid)\n",
    ")\n",
    "print(mAP_normal)"
   ]
  },
  {
   "cell_type": "code",
   "execution_count": 29,
   "metadata": {
    "colab": {
     "base_uri": "https://localhost:8080/",
     "height": 34
    },
    "colab_type": "code",
    "executionInfo": {
     "elapsed": 7541,
     "status": "ok",
     "timestamp": 1558344792232,
     "user": {
      "displayName": "Vĩnh Nguyễn Mậu",
      "photoUrl": "https://lh3.googleusercontent.com/-AzQeUNPRcP8/AAAAAAAAAAI/AAAAAAAAAA0/alATI1ep5VU/s64/photo.jpg",
      "userId": "14863606540204610233"
     },
     "user_tz": -420
    },
    "id": "XaIY_9gJ2thO",
    "outputId": "e26b99b6-0d5f-4da9-d132-7c98380cb3c3"
   },
   "outputs": [
    {
     "name": "stdout",
     "output_type": "stream",
     "text": [
      "0.8681053548786035\n"
     ]
    }
   ],
   "source": [
    "mAP_kmeans = experiment.mAP_kmeans(\n",
    "    extractor=cnn_extractor,\n",
    "    db=(x_valid, y_valid),\n",
    "    queries=(x_valid, y_valid)\n",
    ")\n",
    "\n",
    "print(mAP_kmeans)"
   ]
  }
 ],
 "metadata": {
  "accelerator": "GPU",
  "colab": {
   "collapsed_sections": [],
   "name": "03-triplet-loss.ipynb",
   "provenance": [],
   "version": "0.3.2"
  },
  "kernelspec": {
   "display_name": "Python 3",
   "language": "python",
   "name": "python3"
  },
  "language_info": {
   "codemirror_mode": {
    "name": "ipython",
    "version": 3
   },
   "file_extension": ".py",
   "mimetype": "text/x-python",
   "name": "python",
   "nbconvert_exporter": "python",
   "pygments_lexer": "ipython3",
   "version": "3.6.7"
  }
 },
 "nbformat": 4,
 "nbformat_minor": 1
}
