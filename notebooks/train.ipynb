{
 "cells": [
  {
   "cell_type": "markdown",
   "metadata": {},
   "source": [
    "# SETUP"
   ]
  },
  {
   "cell_type": "code",
   "execution_count": 1,
   "metadata": {
    "pycharm": {
     "is_executing": false,
     "metadata": false,
     "name": "#%%\n"
    }
   },
   "outputs": [],
   "source": [
    "import sys\n",
    "sys.path.append('../')"
   ]
  },
  {
   "cell_type": "markdown",
   "metadata": {},
   "source": [
    "# RUN"
   ]
  },
  {
   "cell_type": "markdown",
   "metadata": {},
   "source": [
    "## Prepare data"
   ]
  },
  {
   "cell_type": "markdown",
   "metadata": {},
   "source": [
    "### Load raw dataset"
   ]
  },
  {
   "cell_type": "code",
   "execution_count": 2,
   "metadata": {
    "pycharm": {
     "is_executing": false
    }
   },
   "outputs": [
    {
     "name": "stderr",
     "output_type": "stream",
     "text": [
      "Using TensorFlow backend.\n"
     ]
    },
    {
     "name": "stdout",
     "output_type": "stream",
     "text": [
      "Loading dataset: standford_online_products from folder: /home/victor/Learning/bku/dissertation/implementation/data\n",
      "Try to read from pickle file...\n",
      "Load data succeed\n"
     ]
    }
   ],
   "source": [
    "from src.data import data_provider, data_processor\n",
    "\n",
    "DATA_ROOT = '/home/victor/Learning/bku/dissertation/implementation/data'\n",
    "dataset_raw = data_provider.load(\n",
    "    data_root=DATA_ROOT,\n",
    "    dataset_name=data_provider.STANDFORD_ONLINE_PRODUCTS,\n",
    "    dataset_type=data_provider.RAW)\n",
    "\n",
    "dataset_raw = data_provider.subset(dataset_raw)"
   ]
  },
  {
   "cell_type": "markdown",
   "metadata": {},
   "source": [
    "### Process dataset"
   ]
  },
  {
   "cell_type": "code",
   "execution_count": 3,
   "metadata": {},
   "outputs": [],
   "source": [
    "# normalize\n",
    "input_shape = (224, 224, 3)\n",
    "dataset_inter = data_processor.normalize(dataset_raw, input_shape)"
   ]
  },
  {
   "cell_type": "code",
   "execution_count": 4,
   "metadata": {},
   "outputs": [
    {
     "name": "stdout",
     "output_type": "stream",
     "text": [
      "Augmenting dataset...\n",
      "Augmented\n"
     ]
    }
   ],
   "source": [
    "augmentation = {\n",
    "#     \"rotation_range\": 20,\n",
    "#     \"horizontal_flip\": True\n",
    "}\n",
    "\n",
    "dataset_final = data_processor.augment(dataset_inter, augmentation)"
   ]
  },
  {
   "cell_type": "markdown",
   "metadata": {},
   "source": [
    "## Train CNN"
   ]
  },
  {
   "cell_type": "markdown",
   "metadata": {},
   "source": [
    "### Load CNN"
   ]
  },
  {
   "cell_type": "code",
   "execution_count": 5,
   "metadata": {},
   "outputs": [
    {
     "name": "stdout",
     "output_type": "stream",
     "text": [
      "Model VGG16 has been built\n",
      "WARNING:tensorflow:From /home/victor/.local/lib/python3.6/site-packages/tensorflow/python/framework/op_def_library.py:263: colocate_with (from tensorflow.python.framework.ops) is deprecated and will be removed in a future version.\n",
      "Instructions for updating:\n",
      "Colocations handled automatically by placer.\n"
     ]
    }
   ],
   "source": [
    "from src.model import model_provider\n",
    "\n",
    "model_name = 'vgg16'\n",
    "num_classes = len(dataset_final['classes'])\n",
    "cnn_classifier = model_provider.build_cnn_classifier(model_name, input_shape, num_classes)"
   ]
  },
  {
   "cell_type": "markdown",
   "metadata": {},
   "source": [
    "### Train CNN"
   ]
  },
  {
   "cell_type": "code",
   "execution_count": 6,
   "metadata": {},
   "outputs": [],
   "source": [
    "from src import training\n",
    "\n",
    "# compile model\n",
    "optimizer_params = {\n",
    "    \"name\": \"SGD\",\n",
    "    \"lr\": 0.02,\n",
    "    \"momentum\": 0.9\n",
    "}\n",
    "\n",
    "cnn_classifier = training.compile_classifier(cnn_classifier, optimizer_params)"
   ]
  },
  {
   "cell_type": "code",
   "execution_count": 7,
   "metadata": {},
   "outputs": [
    {
     "name": "stdout",
     "output_type": "stream",
     "text": [
      "WARNING:tensorflow:From /home/victor/.local/lib/python3.6/site-packages/tensorflow/python/ops/math_ops.py:3066: to_int32 (from tensorflow.python.ops.math_ops) is deprecated and will be removed in a future version.\n",
      "Instructions for updating:\n",
      "Use tf.cast instead.\n",
      "Train on 100 samples, validate on 20 samples\n",
      "Epoch 1/1\n",
      "100/100 [==============================] - 208s 2s/step - loss: 1.1004 - acc: 0.2700 - val_loss: 1.1021 - val_acc: 0.1000\n",
      "Total training time: 226.6851098537445\n"
     ]
    }
   ],
   "source": [
    "# train model\n",
    "training_params = {\n",
    "    \"batch_size\": 32,\n",
    "    \"epochs\": 1\n",
    "}\n",
    "\n",
    "cnn_classifier, history = training.train_classifier(cnn_classifier, dataset_final, training_params)"
   ]
  },
  {
   "cell_type": "code",
   "execution_count": null,
   "metadata": {},
   "outputs": [],
   "source": [
    "# build cnn_extractor from trained cnn_classifier\n",
    "cnn_extractor = model_provider.build_cnn_extractor(cnn_classifier, features_layer='fc2')\n",
    "\n",
    "# evaluate with validation data\n",
    "from src import experiment\n",
    "scores = experiment.evaluate_extractor(cnn_extractor, dataset_final, mode='valid', top_k=30)\n",
    "print('similarity precision:', scores[0])\n",
    "print('mAP:', scores[1])"
   ]
  },
  {
   "cell_type": "markdown",
   "metadata": {},
   "source": [
    "### Evaluate CNN"
   ]
  }
 ],
 "metadata": {
  "kernelspec": {
   "display_name": "Python 3",
   "language": "python",
   "name": "python3"
  },
  "language_info": {
   "codemirror_mode": {
    "name": "ipython",
    "version": 3
   },
   "file_extension": ".py",
   "mimetype": "text/x-python",
   "name": "python",
   "nbconvert_exporter": "python",
   "pygments_lexer": "ipython3",
   "version": "3.6.7"
  },
  "stem_cell": {
   "cell_type": "raw",
   "metadata": {
    "pycharm": {
     "metadata": false
    }
   },
   "source": ""
  }
 },
 "nbformat": 4,
 "nbformat_minor": 1
}
