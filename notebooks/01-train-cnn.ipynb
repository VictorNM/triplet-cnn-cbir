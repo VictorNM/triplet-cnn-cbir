{
 "cells": [
  {
   "cell_type": "markdown",
   "metadata": {
    "colab_type": "text",
    "id": "3hg8RjTqtIGV"
   },
   "source": [
    "# SETUP"
   ]
  },
  {
   "cell_type": "markdown",
   "metadata": {
    "colab_type": "text",
    "id": "01gpRxZa3dvx"
   },
   "source": [
    "**IMPORTANT NOTE:**\n",
    "- Go to \"Edit\" -> \"Notebook setting\" and set:\n",
    "  - Runtime type: Python 3\n",
    "  - Hardware accelerator: GPU"
   ]
  },
  {
   "cell_type": "markdown",
   "metadata": {
    "colab_type": "text",
    "id": "LV3o6RsV9-dI"
   },
   "source": [
    "**Mount data from Google Drive**\n",
    "- Run cells. `GDRIVE_ROOT` is where Google Drive will be mounted\n",
    "- Click the URL displayed to get authorization code (login and allow access google drive account if required)\n",
    "- Copy authorization code, back to this file and paste to the input below \"Enter your authorization code:\" then hit Enter"
   ]
  },
  {
   "cell_type": "code",
   "execution_count": 0,
   "metadata": {
    "colab": {},
    "colab_type": "code",
    "id": "U2BfSDba8aWZ"
   },
   "outputs": [],
   "source": [
    "GDRIVE_ROOT = '/content/gdrive'\n",
    "# NOTE: change trainer to current trainer\n",
    "trainer = 'Vinh'"
   ]
  },
  {
   "cell_type": "code",
   "execution_count": 0,
   "metadata": {
    "colab": {
     "base_uri": "https://localhost:8080/",
     "height": 124
    },
    "colab_type": "code",
    "executionInfo": {
     "elapsed": 63013,
     "status": "ok",
     "timestamp": 1558706617561,
     "user": {
      "displayName": "Vĩnh Nguyễn Mậu",
      "photoUrl": "https://lh3.googleusercontent.com/-AzQeUNPRcP8/AAAAAAAAAAI/AAAAAAAAAA0/alATI1ep5VU/s64/photo.jpg",
      "userId": "14863606540204610233"
     },
     "user_tz": -420
    },
    "id": "M7Sk0Fz599wM",
    "outputId": "9354d890-73e0-4933-cb5d-300504ce583c"
   },
   "outputs": [
    {
     "name": "stdout",
     "output_type": "stream",
     "text": [
      "Go to this URL in a browser: https://accounts.google.com/o/oauth2/auth?client_id=947318989803-6bn6qk8qdgf4n4g3pfee6491hc0brc4i.apps.googleusercontent.com&redirect_uri=urn%3Aietf%3Awg%3Aoauth%3A2.0%3Aoob&scope=email%20https%3A%2F%2Fwww.googleapis.com%2Fauth%2Fdocs.test%20https%3A%2F%2Fwww.googleapis.com%2Fauth%2Fdrive%20https%3A%2F%2Fwww.googleapis.com%2Fauth%2Fdrive.photos.readonly%20https%3A%2F%2Fwww.googleapis.com%2Fauth%2Fpeopleapi.readonly&response_type=code\n",
      "\n",
      "Enter your authorization code:\n",
      "··········\n",
      "Mounted at /content/gdrive\n"
     ]
    }
   ],
   "source": [
    "from google.colab import drive\n",
    "drive.mount(GDRIVE_ROOT, force_remount=True)"
   ]
  },
  {
   "cell_type": "code",
   "execution_count": 0,
   "metadata": {
    "colab": {
     "base_uri": "https://localhost:8080/",
     "height": 156
    },
    "colab_type": "code",
    "executionInfo": {
     "elapsed": 78081,
     "status": "ok",
     "timestamp": 1558706635894,
     "user": {
      "displayName": "Vĩnh Nguyễn Mậu",
      "photoUrl": "https://lh3.googleusercontent.com/-AzQeUNPRcP8/AAAAAAAAAAI/AAAAAAAAAA0/alATI1ep5VU/s64/photo.jpg",
      "userId": "14863606540204610233"
     },
     "user_tz": -420
    },
    "id": "zaddLUUxsSDI",
    "outputId": "fd77ff2a-d579-4811-d0ce-6fc38f777fa9"
   },
   "outputs": [
    {
     "name": "stdout",
     "output_type": "stream",
     "text": [
      "rm: cannot remove 'triplet-cnn-cbir': No such file or directory\n",
      "Cloning into 'triplet-cnn-cbir'...\n",
      "remote: Enumerating objects: 287, done.\u001b[K\n",
      "remote: Counting objects: 100% (287/287), done.\u001b[K\n",
      "remote: Compressing objects: 100% (169/169), done.\u001b[K\n",
      "remote: Total 821 (delta 175), reused 221 (delta 112), pack-reused 534\u001b[K\n",
      "Receiving objects: 100% (821/821), 40.87 MiB | 37.50 MiB/s, done.\n",
      "Resolving deltas: 100% (466/466), done.\n"
     ]
    }
   ],
   "source": [
    "!rm -r triplet-cnn-cbir\n",
    "!git clone https://github.com/VictorNM/triplet-cnn-cbir.git"
   ]
  },
  {
   "cell_type": "code",
   "execution_count": 0,
   "metadata": {
    "colab": {
     "base_uri": "https://localhost:8080/",
     "height": 34
    },
    "colab_type": "code",
    "executionInfo": {
     "elapsed": 76820,
     "status": "ok",
     "timestamp": 1558706635906,
     "user": {
      "displayName": "Vĩnh Nguyễn Mậu",
      "photoUrl": "https://lh3.googleusercontent.com/-AzQeUNPRcP8/AAAAAAAAAAI/AAAAAAAAAA0/alATI1ep5VU/s64/photo.jpg",
      "userId": "14863606540204610233"
     },
     "user_tz": -420
    },
    "id": "fj899ZG_0KQ1",
    "outputId": "c0f40da7-5aed-4543-d53b-ee193093ad20"
   },
   "outputs": [
    {
     "name": "stderr",
     "output_type": "stream",
     "text": [
      "Using TensorFlow backend.\n"
     ]
    }
   ],
   "source": [
    "import sys\n",
    "sys.path.append('triplet-cnn-cbir')\n",
    "\n",
    "# import all dependencies\n",
    "import keras\n",
    "from keras.preprocessing.image import ImageDataGenerator\n",
    "from keras.models import Sequential\n",
    "from keras.layers import Dense, Activation, Flatten, Dropout\n",
    "from keras.layers import Conv2D, MaxPooling2D\n",
    "from keras.layers import BatchNormalization\n",
    "from keras.optimizers import SGD\n",
    "\n",
    "import os\n",
    "import numpy as np\n",
    "\n",
    "from src import data, models, visualization, utils, callbacks, experiment"
   ]
  },
  {
   "cell_type": "code",
   "execution_count": 0,
   "metadata": {
    "colab": {
     "base_uri": "https://localhost:8080/",
     "height": 34
    },
    "colab_type": "code",
    "executionInfo": {
     "elapsed": 65982,
     "status": "ok",
     "timestamp": 1558706635912,
     "user": {
      "displayName": "Vĩnh Nguyễn Mậu",
      "photoUrl": "https://lh3.googleusercontent.com/-AzQeUNPRcP8/AAAAAAAAAAI/AAAAAAAAAA0/alATI1ep5VU/s64/photo.jpg",
      "userId": "14863606540204610233"
     },
     "user_tz": -420
    },
    "id": "W-czRAHJY1S3",
    "outputId": "87451bed-8c9f-4e7f-8363-1c2fd0c6a53d"
   },
   "outputs": [
    {
     "name": "stdout",
     "output_type": "stream",
     "text": [
      "Dissetation directory: /content/gdrive/My Drive/bku-dissertation\n"
     ]
    }
   ],
   "source": [
    "# config folder\n",
    "DISSERTATION_DIR = os.path.join(GDRIVE_ROOT, 'My Drive/bku-dissertation')\n",
    "print('Dissetation directory:', DISSERTATION_DIR)"
   ]
  },
  {
   "cell_type": "markdown",
   "metadata": {
    "colab_type": "text",
    "id": "-I8xPqWPtIG7"
   },
   "source": [
    "# RUN"
   ]
  },
  {
   "cell_type": "markdown",
   "metadata": {
    "colab_type": "text",
    "id": "b4Jf-AK6tIHB"
   },
   "source": [
    "## Prepare"
   ]
  },
  {
   "cell_type": "markdown",
   "metadata": {
    "colab_type": "text",
    "id": "JHV6oSt3tIHG"
   },
   "source": [
    "### Load and process data"
   ]
  },
  {
   "cell_type": "code",
   "execution_count": 0,
   "metadata": {
    "colab": {
     "base_uri": "https://localhost:8080/",
     "height": 69
    },
    "colab_type": "code",
    "executionInfo": {
     "elapsed": 11560,
     "status": "ok",
     "timestamp": 1558706642708,
     "user": {
      "displayName": "Vĩnh Nguyễn Mậu",
      "photoUrl": "https://lh3.googleusercontent.com/-AzQeUNPRcP8/AAAAAAAAAAI/AAAAAAAAAA0/alATI1ep5VU/s64/photo.jpg",
      "userId": "14863606540204610233"
     },
     "user_tz": -420
    },
    "id": "EUW4up-ttIHP",
    "outputId": "01ee3778-f592-4aa7-b947-686c0579d713",
    "pycharm": {
     "is_executing": false
    }
   },
   "outputs": [
    {
     "name": "stdout",
     "output_type": "stream",
     "text": [
      "Found 1200 images belonging to 2 classes.\n",
      "Found 400 images belonging to 2 classes.\n",
      "Classes: ['fan', 'kettle']\n"
     ]
    }
   ],
   "source": [
    "DATA_ROOT = os.path.join(DISSERTATION_DIR, 'data')\n",
    "dataset_name = '_2_fan_kettle_600_200_200'\n",
    "dataset_type = 'raw'\n",
    "input_size = (224, 224)\n",
    "\n",
    "train_path = os.path.join(DATA_ROOT, dataset_type, dataset_name, 'train')\n",
    "train_generator = ImageDataGenerator(rescale=1./255) \\\n",
    "                  .flow_from_directory(train_path, input_size)\n",
    "\n",
    "valid_path = os.path.join(DATA_ROOT, dataset_type, dataset_name, 'valid')\n",
    "valid_generator = ImageDataGenerator(rescale=1./255) \\\n",
    "                  .flow_from_directory(valid_path, input_size)\n",
    "\n",
    "# get name of classes\n",
    "classes = [[] for i in range(train_generator.num_classes)]\n",
    "for k, v in train_generator.class_indices.items():\n",
    "  classes[v] = k\n",
    "  \n",
    "print('Classes:', classes)"
   ]
  },
  {
   "cell_type": "code",
   "execution_count": 0,
   "metadata": {
    "colab": {
     "base_uri": "https://localhost:8080/",
     "height": 34
    },
    "colab_type": "code",
    "executionInfo": {
     "elapsed": 155418,
     "status": "ok",
     "timestamp": 1558706790552,
     "user": {
      "displayName": "Vĩnh Nguyễn Mậu",
      "photoUrl": "https://lh3.googleusercontent.com/-AzQeUNPRcP8/AAAAAAAAAAI/AAAAAAAAAA0/alATI1ep5VU/s64/photo.jpg",
      "userId": "14863606540204610233"
     },
     "user_tz": -420
    },
    "id": "BKB5VjODuE_h",
    "outputId": "92135919-72ed-46dd-be5b-d611df455927"
   },
   "outputs": [
    {
     "name": "stdout",
     "output_type": "stream",
     "text": [
      "(400, 224, 224, 3) (400,)\n"
     ]
    }
   ],
   "source": [
    "# get all valid dataset for visualize on tensorboard\n",
    "x_valid, y_valid = data.convert_generator_to_data(valid_generator)\n",
    "print(x_valid.shape, y_valid.shape)"
   ]
  },
  {
   "cell_type": "markdown",
   "metadata": {
    "colab_type": "text",
    "id": "04DGwqrTxGOb"
   },
   "source": [
    "### Prepare TensorBoard"
   ]
  },
  {
   "cell_type": "code",
   "execution_count": 0,
   "metadata": {
    "colab": {
     "base_uri": "https://localhost:8080/",
     "height": 34
    },
    "colab_type": "code",
    "executionInfo": {
     "elapsed": 157552,
     "status": "ok",
     "timestamp": 1558706793997,
     "user": {
      "displayName": "Vĩnh Nguyễn Mậu",
      "photoUrl": "https://lh3.googleusercontent.com/-AzQeUNPRcP8/AAAAAAAAAAI/AAAAAAAAAA0/alATI1ep5VU/s64/photo.jpg",
      "userId": "14863606540204610233"
     },
     "user_tz": -420
    },
    "id": "fOZrmPOuxL9J",
    "outputId": "77b640cd-00a5-47e3-ded6-bda3c8d3607e"
   },
   "outputs": [
    {
     "name": "stdout",
     "output_type": "stream",
     "text": [
      "https://92782e60.ngrok.io\n"
     ]
    }
   ],
   "source": [
    "LOGS_DIR = '/content/logs'\n",
    "print(callbacks.get_tensorboard_url(LOGS_DIR))"
   ]
  },
  {
   "cell_type": "markdown",
   "metadata": {
    "colab_type": "text",
    "id": "XSSC_BaatIJd"
   },
   "source": [
    "## Train CNN"
   ]
  },
  {
   "cell_type": "markdown",
   "metadata": {
    "colab_type": "text",
    "id": "LKrQFY0Jvu6m"
   },
   "source": [
    "### Build CNN"
   ]
  },
  {
   "cell_type": "code",
   "execution_count": 0,
   "metadata": {
    "colab": {
     "base_uri": "https://localhost:8080/",
     "height": 1201
    },
    "colab_type": "code",
    "executionInfo": {
     "elapsed": 151677,
     "status": "ok",
     "timestamp": 1558706794014,
     "user": {
      "displayName": "Vĩnh Nguyễn Mậu",
      "photoUrl": "https://lh3.googleusercontent.com/-AzQeUNPRcP8/AAAAAAAAAAI/AAAAAAAAAA0/alATI1ep5VU/s64/photo.jpg",
      "userId": "14863606540204610233"
     },
     "user_tz": -420
    },
    "id": "TocU2ZretIJ-",
    "outputId": "7f26839a-a21f-439f-aa7c-5ca37298867c"
   },
   "outputs": [
    {
     "name": "stdout",
     "output_type": "stream",
     "text": [
      "WARNING:tensorflow:From /usr/local/lib/python3.6/dist-packages/tensorflow/python/framework/op_def_library.py:263: colocate_with (from tensorflow.python.framework.ops) is deprecated and will be removed in a future version.\n",
      "Instructions for updating:\n",
      "Colocations handled automatically by placer.\n",
      "WARNING:tensorflow:From /usr/local/lib/python3.6/dist-packages/keras/backend/tensorflow_backend.py:3445: calling dropout (from tensorflow.python.ops.nn_ops) with keep_prob is deprecated and will be removed in a future version.\n",
      "Instructions for updating:\n",
      "Please use `rate` instead of `keep_prob`. Rate should be set to `rate = 1 - keep_prob`.\n",
      "_________________________________________________________________\n",
      "Layer (type)                 Output Shape              Param #   \n",
      "=================================================================\n",
      "block1_conv1 (Conv2D)        (None, 224, 224, 64)      1792      \n",
      "_________________________________________________________________\n",
      "activation_1 (Activation)    (None, 224, 224, 64)      0         \n",
      "_________________________________________________________________\n",
      "max_pooling2d_1 (MaxPooling2 (None, 112, 112, 64)      0         \n",
      "_________________________________________________________________\n",
      "block2_conv1 (Conv2D)        (None, 112, 112, 128)     73856     \n",
      "_________________________________________________________________\n",
      "activation_2 (Activation)    (None, 112, 112, 128)     0         \n",
      "_________________________________________________________________\n",
      "max_pooling2d_2 (MaxPooling2 (None, 56, 56, 128)       0         \n",
      "_________________________________________________________________\n",
      "block3_conv1 (Conv2D)        (None, 56, 56, 256)       295168    \n",
      "_________________________________________________________________\n",
      "activation_3 (Activation)    (None, 56, 56, 256)       0         \n",
      "_________________________________________________________________\n",
      "block3_conv2 (Conv2D)        (None, 56, 56, 256)       590080    \n",
      "_________________________________________________________________\n",
      "activation_4 (Activation)    (None, 56, 56, 256)       0         \n",
      "_________________________________________________________________\n",
      "max_pooling2d_3 (MaxPooling2 (None, 28, 28, 256)       0         \n",
      "_________________________________________________________________\n",
      "block4_conv1 (Conv2D)        (None, 28, 28, 512)       1180160   \n",
      "_________________________________________________________________\n",
      "activation_5 (Activation)    (None, 28, 28, 512)       0         \n",
      "_________________________________________________________________\n",
      "block4_conv2 (Conv2D)        (None, 28, 28, 512)       2359808   \n",
      "_________________________________________________________________\n",
      "activation_6 (Activation)    (None, 28, 28, 512)       0         \n",
      "_________________________________________________________________\n",
      "max_pooling2d_4 (MaxPooling2 (None, 14, 14, 512)       0         \n",
      "_________________________________________________________________\n",
      "block5_conv1 (Conv2D)        (None, 14, 14, 512)       2359808   \n",
      "_________________________________________________________________\n",
      "activation_7 (Activation)    (None, 14, 14, 512)       0         \n",
      "_________________________________________________________________\n",
      "block5_conv2 (Conv2D)        (None, 14, 14, 512)       2359808   \n",
      "_________________________________________________________________\n",
      "activation_8 (Activation)    (None, 14, 14, 512)       0         \n",
      "_________________________________________________________________\n",
      "max_pooling2d_5 (MaxPooling2 (None, 7, 7, 512)         0         \n",
      "_________________________________________________________________\n",
      "dropout_1 (Dropout)          (None, 7, 7, 512)         0         \n",
      "_________________________________________________________________\n",
      "flatten_1 (Flatten)          (None, 25088)             0         \n",
      "_________________________________________________________________\n",
      "fc1 (Dense)                  (None, 4096)              102764544 \n",
      "_________________________________________________________________\n",
      "dropout_2 (Dropout)          (None, 4096)              0         \n",
      "_________________________________________________________________\n",
      "fc2 (Dense)                  (None, 4096)              16781312  \n",
      "_________________________________________________________________\n",
      "predictions (Dense)          (None, 2)                 8194      \n",
      "=================================================================\n",
      "Total params: 128,774,530\n",
      "Trainable params: 128,774,530\n",
      "Non-trainable params: 0\n",
      "_________________________________________________________________\n"
     ]
    }
   ],
   "source": [
    "def build_cnn_classifier(input_shape, num_classes):\n",
    "  cnn = Sequential()\n",
    "\n",
    "  cnn.add(Conv2D(64, (3, 3), padding='same', name='block1_conv1', input_shape=input_shape))\n",
    "  cnn.add(Activation('relu'))\n",
    "  cnn.add(MaxPooling2D((2, 2), strides=(2, 2)))\n",
    "\n",
    "  cnn.add(Conv2D(128, (3, 3), padding='same', name='block2_conv1'))\n",
    "  cnn.add(Activation('relu'))\n",
    "  cnn.add(MaxPooling2D((2, 2), strides=(2, 2)))\n",
    "\n",
    "  cnn.add(Conv2D(256, (3, 3), padding='same', name='block3_conv1'))\n",
    "  cnn.add(Activation('relu'))\n",
    "  cnn.add(Conv2D(256, (3, 3), padding='same', name='block3_conv2'))\n",
    "  cnn.add(Activation('relu'))\n",
    "  cnn.add(MaxPooling2D((2, 2), strides=(2, 2)))\n",
    "\n",
    "  cnn.add(Conv2D(512, (3, 3), padding='same', name='block4_conv1'))\n",
    "  cnn.add(Activation('relu'))\n",
    "  cnn.add(Conv2D(512, (3, 3), padding='same', name='block4_conv2'))\n",
    "  cnn.add(Activation('relu'))\n",
    "  cnn.add(MaxPooling2D((2, 2), strides=(2, 2)))\n",
    "\n",
    "  cnn.add(Conv2D(512, (3, 3), padding='same', name='block5_conv1'))\n",
    "  cnn.add(Activation('relu'))\n",
    "  cnn.add(Conv2D(512, (3, 3), padding='same', name='block5_conv2'))\n",
    "  cnn.add(Activation('relu'))\n",
    "  cnn.add(MaxPooling2D((2, 2), strides=(2, 2)))\n",
    "  cnn.add(Dropout(0.5))  \n",
    "\n",
    "  cnn.add(Flatten())\n",
    "  cnn.add(Dense(4096, activation='relu', name='fc1'))\n",
    "  cnn.add(Dropout(0.5))\n",
    "  cnn.add(Dense(4096, activation='relu', name='fc2'))\n",
    "  cnn.add(Dense(num_classes, activation='softmax', name='predictions'))\n",
    "\n",
    "  return cnn\n",
    "\n",
    "num_classes = len(classes)\n",
    "input_shape = train_generator.image_shape\n",
    "cnn_classifier = build_cnn_classifier(input_shape, num_classes)\n",
    "cnn_classifier.summary()"
   ]
  },
  {
   "cell_type": "markdown",
   "metadata": {
    "colab_type": "text",
    "id": "fB-GK1f4tIKn"
   },
   "source": [
    "### Train CNN"
   ]
  },
  {
   "cell_type": "code",
   "execution_count": 0,
   "metadata": {
    "colab": {},
    "colab_type": "code",
    "id": "ECItqdwEtIKs"
   },
   "outputs": [],
   "source": [
    "# compile model\n",
    "optimizer_params = {\n",
    "    \"lr\": 0.001,\n",
    "    \"momentum\": 0.9\n",
    "}\n",
    "opt = SGD(**optimizer_params)\n",
    "\n",
    "cnn_classifier.compile(\n",
    "    optimizer=opt, \n",
    "    loss='categorical_crossentropy', \n",
    "    metrics=['accuracy']\n",
    ")"
   ]
  },
  {
   "cell_type": "code",
   "execution_count": 0,
   "metadata": {
    "colab": {
     "base_uri": "https://localhost:8080/",
     "height": 5577
    },
    "colab_type": "code",
    "executionInfo": {
     "elapsed": 96226,
     "status": "ok",
     "timestamp": 1558708504895,
     "user": {
      "displayName": "Vĩnh Nguyễn Mậu",
      "photoUrl": "https://lh3.googleusercontent.com/-AzQeUNPRcP8/AAAAAAAAAAI/AAAAAAAAAA0/alATI1ep5VU/s64/photo.jpg",
      "userId": "14863606540204610233"
     },
     "user_tz": -420
    },
    "id": "5lw0n3-GtILh",
    "outputId": "dfe4f23c-2c14-4f99-954e-d158dd43b8cf"
   },
   "outputs": [
    {
     "name": "stdout",
     "output_type": "stream",
     "text": [
      "Datetime train: 2019-05-24 21:06:53\n",
      "WARNING:tensorflow:From /usr/local/lib/python3.6/dist-packages/tensorflow/python/ops/math_ops.py:3066: to_int32 (from tensorflow.python.ops.math_ops) is deprecated and will be removed in a future version.\n",
      "Instructions for updating:\n",
      "Use tf.cast instead.\n",
      "Epoch 1/200\n",
      "38/38 [==============================] - 414s 11s/step - loss: 0.6924 - acc: 0.4975 - val_loss: 0.6910 - val_acc: 0.5000\n",
      "\n",
      "Epoch 00001: val_loss improved from inf to 0.69098, saving model to /content/gdrive/My Drive/bku-dissertation/model/Vinh/2019-05-24 21:06:53.h5\n",
      "Epoch 2/200\n",
      "38/38 [==============================] - 11s 295ms/step - loss: 0.6893 - acc: 0.5065 - val_loss: 0.6878 - val_acc: 0.5000\n",
      "\n",
      "Epoch 00002: val_loss improved from 0.69098 to 0.68777, saving model to /content/gdrive/My Drive/bku-dissertation/model/Vinh/2019-05-24 21:06:53.h5\n",
      "Epoch 3/200\n",
      "38/38 [==============================] - 11s 288ms/step - loss: 0.6861 - acc: 0.5016 - val_loss: 0.6836 - val_acc: 0.5100\n",
      "\n",
      "Epoch 00003: val_loss improved from 0.68777 to 0.68364, saving model to /content/gdrive/My Drive/bku-dissertation/model/Vinh/2019-05-24 21:06:53.h5\n",
      "Epoch 4/200\n",
      "38/38 [==============================] - 11s 285ms/step - loss: 0.6828 - acc: 0.5181 - val_loss: 0.6774 - val_acc: 0.5200\n",
      "\n",
      "Epoch 00004: val_loss improved from 0.68364 to 0.67739, saving model to /content/gdrive/My Drive/bku-dissertation/model/Vinh/2019-05-24 21:06:53.h5\n",
      "Epoch 5/200\n",
      "38/38 [==============================] - 11s 290ms/step - loss: 0.6765 - acc: 0.5412 - val_loss: 0.6672 - val_acc: 0.6150\n",
      "\n",
      "Epoch 00005: val_loss improved from 0.67739 to 0.66724, saving model to /content/gdrive/My Drive/bku-dissertation/model/Vinh/2019-05-24 21:06:53.h5\n",
      "Epoch 6/200\n",
      "38/38 [==============================] - 11s 292ms/step - loss: 0.6628 - acc: 0.5609 - val_loss: 0.6497 - val_acc: 0.7275\n",
      "WARNING:tensorflow:From /usr/local/lib/python3.6/dist-packages/tensorflow/python/training/saver.py:966: remove_checkpoint (from tensorflow.python.training.checkpoint_management) is deprecated and will be removed in a future version.\n",
      "Instructions for updating:\n",
      "Use standard file APIs to delete files with this prefix.\n",
      "\n",
      "Epoch 00006: val_loss improved from 0.66724 to 0.64974, saving model to /content/gdrive/My Drive/bku-dissertation/model/Vinh/2019-05-24 21:06:53.h5\n",
      "Epoch 7/200\n",
      "38/38 [==============================] - 11s 290ms/step - loss: 0.6429 - acc: 0.7007 - val_loss: 0.6188 - val_acc: 0.6575\n",
      "\n",
      "Epoch 00007: val_loss improved from 0.64974 to 0.61883, saving model to /content/gdrive/My Drive/bku-dissertation/model/Vinh/2019-05-24 21:06:53.h5\n",
      "Epoch 8/200\n",
      "38/38 [==============================] - 11s 288ms/step - loss: 0.5979 - acc: 0.7121 - val_loss: 0.5658 - val_acc: 0.7675\n",
      "\n",
      "Epoch 00008: val_loss improved from 0.61883 to 0.56580, saving model to /content/gdrive/My Drive/bku-dissertation/model/Vinh/2019-05-24 21:06:53.h5\n",
      "Epoch 9/200\n",
      "38/38 [==============================] - 11s 290ms/step - loss: 0.5618 - acc: 0.7253 - val_loss: 0.5541 - val_acc: 0.7650\n",
      "\n",
      "Epoch 00009: val_loss improved from 0.56580 to 0.55414, saving model to /content/gdrive/My Drive/bku-dissertation/model/Vinh/2019-05-24 21:06:53.h5\n",
      "Epoch 10/200\n",
      "38/38 [==============================] - 11s 293ms/step - loss: 0.5212 - acc: 0.7509 - val_loss: 0.5317 - val_acc: 0.7550\n",
      "\n",
      "Epoch 00010: val_loss improved from 0.55414 to 0.53172, saving model to /content/gdrive/My Drive/bku-dissertation/model/Vinh/2019-05-24 21:06:53.h5\n",
      "Epoch 11/200\n",
      "38/38 [==============================] - 11s 292ms/step - loss: 0.4895 - acc: 0.7706 - val_loss: 0.5013 - val_acc: 0.7650\n",
      "\n",
      "Epoch 00011: val_loss improved from 0.53172 to 0.50133, saving model to /content/gdrive/My Drive/bku-dissertation/model/Vinh/2019-05-24 21:06:53.h5\n",
      "Epoch 12/200\n",
      "38/38 [==============================] - 11s 288ms/step - loss: 0.4867 - acc: 0.7689 - val_loss: 0.5346 - val_acc: 0.7325\n",
      "\n",
      "Epoch 00012: val_loss did not improve from 0.50133\n",
      "Epoch 13/200\n",
      "38/38 [==============================] - 11s 294ms/step - loss: 0.4802 - acc: 0.7575 - val_loss: 0.5382 - val_acc: 0.7300\n",
      "\n",
      "Epoch 00013: val_loss did not improve from 0.50133\n",
      "Epoch 14/200\n",
      "38/38 [==============================] - 11s 291ms/step - loss: 0.4569 - acc: 0.7854 - val_loss: 0.4695 - val_acc: 0.7825\n",
      "\n",
      "Epoch 00014: val_loss improved from 0.50133 to 0.46951, saving model to /content/gdrive/My Drive/bku-dissertation/model/Vinh/2019-05-24 21:06:53.h5\n",
      "Epoch 15/200\n",
      "38/38 [==============================] - 11s 283ms/step - loss: 0.4675 - acc: 0.7755 - val_loss: 0.5609 - val_acc: 0.7500\n",
      "\n",
      "Epoch 00015: val_loss did not improve from 0.46951\n",
      "Epoch 16/200\n",
      "38/38 [==============================] - 11s 295ms/step - loss: 0.4938 - acc: 0.7615 - val_loss: 0.4696 - val_acc: 0.7850\n",
      "\n",
      "Epoch 00016: val_loss did not improve from 0.46951\n",
      "Epoch 17/200\n",
      "38/38 [==============================] - 11s 302ms/step - loss: 0.4493 - acc: 0.7919 - val_loss: 0.4791 - val_acc: 0.7650\n",
      "\n",
      "Epoch 00017: val_loss did not improve from 0.46951\n",
      "Epoch 18/200\n",
      "38/38 [==============================] - 11s 294ms/step - loss: 0.4723 - acc: 0.7788 - val_loss: 0.5047 - val_acc: 0.7575\n",
      "\n",
      "Epoch 00018: val_loss did not improve from 0.46951\n",
      "Epoch 19/200\n",
      "38/38 [==============================] - 11s 288ms/step - loss: 0.4687 - acc: 0.7755 - val_loss: 0.4648 - val_acc: 0.7775\n",
      "\n",
      "Epoch 00019: val_loss improved from 0.46951 to 0.46477, saving model to /content/gdrive/My Drive/bku-dissertation/model/Vinh/2019-05-24 21:06:53.h5\n",
      "Epoch 20/200\n",
      "38/38 [==============================] - 11s 280ms/step - loss: 0.4762 - acc: 0.7640 - val_loss: 0.5082 - val_acc: 0.7525\n",
      "\n",
      "Epoch 00020: val_loss did not improve from 0.46477\n",
      "Epoch 21/200\n",
      "38/38 [==============================] - 11s 291ms/step - loss: 0.4377 - acc: 0.7887 - val_loss: 0.4675 - val_acc: 0.7600\n",
      "\n",
      "Epoch 00021: val_loss did not improve from 0.46477\n",
      "Epoch 22/200\n",
      "38/38 [==============================] - 12s 303ms/step - loss: 0.4477 - acc: 0.7993 - val_loss: 0.4695 - val_acc: 0.7900\n",
      "\n",
      "Epoch 00022: val_loss did not improve from 0.46477\n",
      "Epoch 23/200\n",
      "38/38 [==============================] - 11s 299ms/step - loss: 0.4228 - acc: 0.8075 - val_loss: 0.4430 - val_acc: 0.7825\n",
      "\n",
      "Epoch 00023: val_loss improved from 0.46477 to 0.44299, saving model to /content/gdrive/My Drive/bku-dissertation/model/Vinh/2019-05-24 21:06:53.h5\n",
      "Epoch 24/200\n",
      "38/38 [==============================] - 11s 282ms/step - loss: 0.4187 - acc: 0.8150 - val_loss: 0.4370 - val_acc: 0.7875\n",
      "\n",
      "Epoch 00024: val_loss improved from 0.44299 to 0.43697, saving model to /content/gdrive/My Drive/bku-dissertation/model/Vinh/2019-05-24 21:06:53.h5\n",
      "Epoch 25/200\n",
      "38/38 [==============================] - 11s 292ms/step - loss: 0.4004 - acc: 0.8265 - val_loss: 0.4238 - val_acc: 0.7925\n",
      "\n",
      "Epoch 00025: val_loss improved from 0.43697 to 0.42383, saving model to /content/gdrive/My Drive/bku-dissertation/model/Vinh/2019-05-24 21:06:53.h5\n",
      "Epoch 26/200\n",
      "38/38 [==============================] - 11s 300ms/step - loss: 0.4184 - acc: 0.8059 - val_loss: 0.4094 - val_acc: 0.8000\n",
      "\n",
      "Epoch 00026: val_loss improved from 0.42383 to 0.40938, saving model to /content/gdrive/My Drive/bku-dissertation/model/Vinh/2019-05-24 21:06:53.h5\n",
      "Epoch 27/200\n",
      "38/38 [==============================] - 11s 291ms/step - loss: 0.4155 - acc: 0.8166 - val_loss: 0.4132 - val_acc: 0.7925\n",
      "\n",
      "Epoch 00027: val_loss did not improve from 0.40938\n",
      "Epoch 28/200\n",
      "38/38 [==============================] - 11s 291ms/step - loss: 0.4113 - acc: 0.8051 - val_loss: 0.4907 - val_acc: 0.7775\n",
      "\n",
      "Epoch 00028: val_loss did not improve from 0.40938\n",
      "Epoch 29/200\n",
      "38/38 [==============================] - 11s 290ms/step - loss: 0.3949 - acc: 0.8248 - val_loss: 0.4037 - val_acc: 0.8025\n",
      "\n",
      "Epoch 00029: val_loss improved from 0.40938 to 0.40371, saving model to /content/gdrive/My Drive/bku-dissertation/model/Vinh/2019-05-24 21:06:53.h5\n",
      "Epoch 30/200\n",
      "38/38 [==============================] - 11s 284ms/step - loss: 0.3823 - acc: 0.8249 - val_loss: 0.3878 - val_acc: 0.8300\n",
      "\n",
      "Epoch 00030: val_loss improved from 0.40371 to 0.38778, saving model to /content/gdrive/My Drive/bku-dissertation/model/Vinh/2019-05-24 21:06:53.h5\n",
      "Epoch 31/200\n",
      "38/38 [==============================] - 11s 297ms/step - loss: 0.4285 - acc: 0.8084 - val_loss: 0.4205 - val_acc: 0.8075\n",
      "\n",
      "Epoch 00031: val_loss did not improve from 0.38778\n",
      "Epoch 32/200\n",
      "38/38 [==============================] - 12s 306ms/step - loss: 0.3689 - acc: 0.8388 - val_loss: 0.3593 - val_acc: 0.8600\n",
      "\n",
      "Epoch 00032: val_loss improved from 0.38778 to 0.35929, saving model to /content/gdrive/My Drive/bku-dissertation/model/Vinh/2019-05-24 21:06:53.h5\n",
      "Epoch 33/200\n",
      "38/38 [==============================] - 11s 286ms/step - loss: 0.3653 - acc: 0.8404 - val_loss: 0.3620 - val_acc: 0.8500\n",
      "\n",
      "Epoch 00033: val_loss did not improve from 0.35929\n",
      "Epoch 34/200\n",
      "38/38 [==============================] - 11s 292ms/step - loss: 0.3727 - acc: 0.8364 - val_loss: 0.3666 - val_acc: 0.8325\n",
      "\n",
      "Epoch 00034: val_loss did not improve from 0.35929\n",
      "Epoch 35/200\n",
      "38/38 [==============================] - 11s 297ms/step - loss: 0.3449 - acc: 0.8495 - val_loss: 0.3124 - val_acc: 0.8625\n",
      "\n",
      "Epoch 00035: val_loss improved from 0.35929 to 0.31242, saving model to /content/gdrive/My Drive/bku-dissertation/model/Vinh/2019-05-24 21:06:53.h5\n",
      "Epoch 36/200\n",
      "38/38 [==============================] - 11s 286ms/step - loss: 0.3243 - acc: 0.8626 - val_loss: 0.4381 - val_acc: 0.8050\n",
      "\n",
      "Epoch 00036: val_loss did not improve from 0.31242\n",
      "Epoch 37/200\n",
      "38/38 [==============================] - 11s 298ms/step - loss: 0.3663 - acc: 0.8388 - val_loss: 0.4113 - val_acc: 0.8100\n",
      "\n",
      "Epoch 00037: val_loss did not improve from 0.31242\n",
      "Epoch 38/200\n",
      "38/38 [==============================] - 11s 299ms/step - loss: 0.3677 - acc: 0.8265 - val_loss: 0.3465 - val_acc: 0.8350\n",
      "\n",
      "Epoch 00038: val_loss did not improve from 0.31242\n",
      "Epoch 39/200\n",
      "38/38 [==============================] - 11s 292ms/step - loss: 0.3183 - acc: 0.8651 - val_loss: 0.3360 - val_acc: 0.8425\n",
      "\n",
      "Epoch 00039: val_loss did not improve from 0.31242\n",
      "Epoch 40/200\n",
      "38/38 [==============================] - 11s 287ms/step - loss: 0.3175 - acc: 0.8610 - val_loss: 0.3346 - val_acc: 0.8775\n",
      "\n",
      "Epoch 00040: val_loss did not improve from 0.31242\n",
      "\n",
      "Epoch 00040: ReduceLROnPlateau reducing learning rate to 0.00010000000474974513.\n",
      "Epoch 41/200\n",
      "38/38 [==============================] - 11s 285ms/step - loss: 0.3803 - acc: 0.8388 - val_loss: 0.3535 - val_acc: 0.8550\n",
      "\n",
      "Epoch 00041: val_loss did not improve from 0.31242\n",
      "Epoch 42/200\n",
      "38/38 [==============================] - 11s 287ms/step - loss: 0.2863 - acc: 0.8906 - val_loss: 0.3153 - val_acc: 0.8775\n",
      "\n",
      "Epoch 00042: val_loss did not improve from 0.31242\n",
      "Epoch 43/200\n",
      "38/38 [==============================] - 11s 290ms/step - loss: 0.2664 - acc: 0.8931 - val_loss: 0.2945 - val_acc: 0.8675\n",
      "\n",
      "Epoch 00043: val_loss improved from 0.31242 to 0.29447, saving model to /content/gdrive/My Drive/bku-dissertation/model/Vinh/2019-05-24 21:06:53.h5\n",
      "Epoch 44/200\n",
      "38/38 [==============================] - 11s 288ms/step - loss: 0.2659 - acc: 0.8931 - val_loss: 0.2825 - val_acc: 0.8925\n",
      "\n",
      "Epoch 00044: val_loss improved from 0.29447 to 0.28250, saving model to /content/gdrive/My Drive/bku-dissertation/model/Vinh/2019-05-24 21:06:53.h5\n",
      "Epoch 45/200\n",
      "38/38 [==============================] - 11s 299ms/step - loss: 0.2512 - acc: 0.8889 - val_loss: 0.2781 - val_acc: 0.8950\n",
      "\n",
      "Epoch 00045: val_loss improved from 0.28250 to 0.27808, saving model to /content/gdrive/My Drive/bku-dissertation/model/Vinh/2019-05-24 21:06:53.h5\n",
      "Epoch 46/200\n",
      "38/38 [==============================] - 11s 297ms/step - loss: 0.2530 - acc: 0.8915 - val_loss: 0.2900 - val_acc: 0.8725\n",
      "\n",
      "Epoch 00046: val_loss did not improve from 0.27808\n",
      "Epoch 47/200\n",
      "38/38 [==============================] - 11s 295ms/step - loss: 0.2492 - acc: 0.8988 - val_loss: 0.2836 - val_acc: 0.8825\n",
      "\n",
      "Epoch 00047: val_loss did not improve from 0.27808\n",
      "Epoch 48/200\n",
      "38/38 [==============================] - 11s 290ms/step - loss: 0.2428 - acc: 0.9005 - val_loss: 0.2766 - val_acc: 0.8975\n",
      "\n",
      "Epoch 00048: val_loss improved from 0.27808 to 0.27660, saving model to /content/gdrive/My Drive/bku-dissertation/model/Vinh/2019-05-24 21:06:53.h5\n",
      "Epoch 49/200\n",
      "38/38 [==============================] - 11s 284ms/step - loss: 0.2306 - acc: 0.9079 - val_loss: 0.2796 - val_acc: 0.8875\n",
      "\n",
      "Epoch 00049: val_loss did not improve from 0.27660\n",
      "Epoch 50/200\n",
      "38/38 [==============================] - 11s 293ms/step - loss: 0.2414 - acc: 0.8996 - val_loss: 0.2819 - val_acc: 0.8875\n",
      "\n",
      "Epoch 00050: val_loss did not improve from 0.27660\n",
      "Epoch 51/200\n",
      "38/38 [==============================] - 12s 304ms/step - loss: 0.2385 - acc: 0.9005 - val_loss: 0.2852 - val_acc: 0.9025\n",
      "\n",
      "Epoch 00051: val_loss did not improve from 0.27660\n",
      "Epoch 52/200\n",
      "38/38 [==============================] - 11s 299ms/step - loss: 0.2339 - acc: 0.8939 - val_loss: 0.2779 - val_acc: 0.9000\n",
      "\n",
      "Epoch 00052: val_loss did not improve from 0.27660\n",
      "Epoch 53/200\n",
      "38/38 [==============================] - 11s 291ms/step - loss: 0.2266 - acc: 0.9071 - val_loss: 0.2831 - val_acc: 0.9025\n",
      "\n",
      "Epoch 00053: val_loss did not improve from 0.27660\n",
      "\n",
      "Epoch 00053: ReduceLROnPlateau reducing learning rate to 1.0000000474974514e-05.\n",
      "Epoch 54/200\n",
      "38/38 [==============================] - 11s 286ms/step - loss: 0.2349 - acc: 0.9046 - val_loss: 0.2809 - val_acc: 0.8975\n",
      "\n",
      "Epoch 00054: val_loss did not improve from 0.27660\n",
      "Epoch 55/200\n",
      "38/38 [==============================] - 11s 286ms/step - loss: 0.2233 - acc: 0.9046 - val_loss: 0.2784 - val_acc: 0.8950\n",
      "\n",
      "Epoch 00055: val_loss did not improve from 0.27660\n",
      "Epoch 56/200\n",
      "38/38 [==============================] - 11s 288ms/step - loss: 0.2159 - acc: 0.9136 - val_loss: 0.2767 - val_acc: 0.8950\n",
      "\n",
      "Epoch 00056: val_loss did not improve from 0.27660\n",
      "Epoch 57/200\n",
      "38/38 [==============================] - 11s 291ms/step - loss: 0.2168 - acc: 0.9071 - val_loss: 0.2770 - val_acc: 0.8975\n",
      "\n",
      "Epoch 00057: val_loss did not improve from 0.27660\n",
      "Epoch 58/200\n",
      "38/38 [==============================] - 11s 293ms/step - loss: 0.2144 - acc: 0.9103 - val_loss: 0.2762 - val_acc: 0.8950\n",
      "\n",
      "Epoch 00058: val_loss improved from 0.27660 to 0.27623, saving model to /content/gdrive/My Drive/bku-dissertation/model/Vinh/2019-05-24 21:06:53.h5\n",
      "Epoch 59/200\n",
      "38/38 [==============================] - 11s 287ms/step - loss: 0.2167 - acc: 0.9144 - val_loss: 0.2760 - val_acc: 0.9025\n",
      "\n",
      "Epoch 00059: val_loss improved from 0.27623 to 0.27598, saving model to /content/gdrive/My Drive/bku-dissertation/model/Vinh/2019-05-24 21:06:53.h5\n",
      "Epoch 60/200\n",
      "38/38 [==============================] - 11s 298ms/step - loss: 0.2221 - acc: 0.9153 - val_loss: 0.2757 - val_acc: 0.8975\n",
      "\n",
      "Epoch 00060: val_loss improved from 0.27598 to 0.27567, saving model to /content/gdrive/My Drive/bku-dissertation/model/Vinh/2019-05-24 21:06:53.h5\n",
      "Epoch 61/200\n",
      "38/38 [==============================] - 11s 296ms/step - loss: 0.2216 - acc: 0.9054 - val_loss: 0.2754 - val_acc: 0.8975\n",
      "\n",
      "Epoch 00061: val_loss improved from 0.27567 to 0.27537, saving model to /content/gdrive/My Drive/bku-dissertation/model/Vinh/2019-05-24 21:06:53.h5\n",
      "Epoch 62/200\n",
      "38/38 [==============================] - 11s 292ms/step - loss: 0.2156 - acc: 0.9161 - val_loss: 0.2769 - val_acc: 0.8975\n",
      "\n",
      "Epoch 00062: val_loss did not improve from 0.27537\n",
      "Epoch 63/200\n",
      "38/38 [==============================] - 11s 292ms/step - loss: 0.2226 - acc: 0.9071 - val_loss: 0.2759 - val_acc: 0.8950\n",
      "\n",
      "Epoch 00063: val_loss did not improve from 0.27537\n",
      "Epoch 64/200\n",
      "38/38 [==============================] - 11s 292ms/step - loss: 0.2188 - acc: 0.9136 - val_loss: 0.2776 - val_acc: 0.9000\n",
      "\n",
      "Epoch 00064: val_loss did not improve from 0.27537\n",
      "Epoch 65/200\n",
      "38/38 [==============================] - 11s 292ms/step - loss: 0.2243 - acc: 0.9055 - val_loss: 0.2765 - val_acc: 0.8950\n",
      "\n",
      "Epoch 00065: val_loss did not improve from 0.27537\n",
      "Epoch 66/200\n",
      "38/38 [==============================] - 11s 290ms/step - loss: 0.2249 - acc: 0.9038 - val_loss: 0.2758 - val_acc: 0.9000\n",
      "\n",
      "Epoch 00066: val_loss did not improve from 0.27537\n",
      "\n",
      "Epoch 00066: ReduceLROnPlateau reducing learning rate to 1.0000000656873453e-06.\n",
      "Epoch 67/200\n",
      "38/38 [==============================] - 11s 290ms/step - loss: 0.2282 - acc: 0.9063 - val_loss: 0.2774 - val_acc: 0.9000\n",
      "\n",
      "Epoch 00067: val_loss did not improve from 0.27537\n",
      "Epoch 68/200\n",
      "38/38 [==============================] - 11s 290ms/step - loss: 0.2215 - acc: 0.9112 - val_loss: 0.2766 - val_acc: 0.9000\n",
      "\n",
      "Epoch 00068: val_loss did not improve from 0.27537\n",
      "Epoch 69/200\n",
      "38/38 [==============================] - 11s 290ms/step - loss: 0.2213 - acc: 0.9112 - val_loss: 0.2765 - val_acc: 0.9000\n",
      "\n",
      "Epoch 00069: val_loss did not improve from 0.27537\n",
      "Epoch 70/200\n",
      "38/38 [==============================] - 11s 290ms/step - loss: 0.2155 - acc: 0.9128 - val_loss: 0.2765 - val_acc: 0.9000\n",
      "\n",
      "Epoch 00070: val_loss did not improve from 0.27537\n",
      "Epoch 71/200\n",
      "38/38 [==============================] - 11s 291ms/step - loss: 0.2167 - acc: 0.9137 - val_loss: 0.2764 - val_acc: 0.9000\n",
      "\n",
      "Epoch 00071: val_loss did not improve from 0.27537\n",
      "\n",
      "Epoch 00071: ReduceLROnPlateau reducing learning rate to 1e-06.\n",
      "Epoch 72/200\n",
      "38/38 [==============================] - 11s 292ms/step - loss: 0.2179 - acc: 0.9087 - val_loss: 0.2763 - val_acc: 0.9000\n",
      "\n",
      "Epoch 00072: val_loss did not improve from 0.27537\n",
      "Epoch 73/200\n",
      "38/38 [==============================] - 11s 291ms/step - loss: 0.2183 - acc: 0.9170 - val_loss: 0.2764 - val_acc: 0.9000\n",
      "\n",
      "Epoch 00073: val_loss did not improve from 0.27537\n",
      "Epoch 74/200\n",
      "38/38 [==============================] - 11s 292ms/step - loss: 0.2150 - acc: 0.9128 - val_loss: 0.2763 - val_acc: 0.9000\n",
      "\n",
      "Epoch 00074: val_loss did not improve from 0.27537\n",
      "Epoch 75/200\n",
      "38/38 [==============================] - 11s 291ms/step - loss: 0.2137 - acc: 0.9194 - val_loss: 0.2762 - val_acc: 0.9000\n",
      "\n",
      "Epoch 00075: val_loss did not improve from 0.27537\n",
      "Epoch 76/200\n",
      "38/38 [==============================] - 11s 291ms/step - loss: 0.2212 - acc: 0.9070 - val_loss: 0.2762 - val_acc: 0.8975\n",
      "\n",
      "Epoch 00076: val_loss did not improve from 0.27537\n"
     ]
    }
   ],
   "source": [
    "# get datetime train for files name (logs, model...)\n",
    "datetime_train = utils.get_datetime_train()\n",
    "print('Datetime train:', datetime_train)\n",
    "\n",
    "# Tensor board\n",
    "tensorboard_params = {\n",
    "    \"histogram_freq\": 0,\n",
    "    \"write_graph\": True,\n",
    "    \"embeddings_freq\": 1    # NOTE: must provide value >= 1 for visualize embedding\n",
    "}\n",
    "tensorboard = callbacks.get_tensorboard(\n",
    "    logs_dir=LOGS_DIR,\n",
    "    datetime_train=datetime_train, \n",
    "    x=x_valid, \n",
    "    y=y_valid, \n",
    "    classes=classes,\n",
    "    params=tensorboard_params\n",
    ")\n",
    "\n",
    "# Model checkpoint\n",
    "MODELS_DIR = os.path.join(DISSERTATION_DIR, 'model', trainer)\n",
    "checkpointer_params = {\n",
    "    \"monitor\": \"val_loss\",\n",
    "    \"verbose\": 1,\n",
    "    \"save_best_only\": True\n",
    "}\n",
    "checkpointer = callbacks.get_model_checkpoint(MODELS_DIR, datetime_train, checkpointer_params)\n",
    "\n",
    "# Early stopping\n",
    "early_stopping_params = {\n",
    "    \"monitor\": \"val_loss\",\n",
    "    \"patience\": 15,\n",
    "    \"restore_best_weights\": True\n",
    "}\n",
    "early_stopping = callbacks.get_early_stopping(params=early_stopping_params)\n",
    "\n",
    "# Reduce learning rate\n",
    "reduce_lr = keras.callbacks.ReduceLROnPlateau(\n",
    "    monitor='val_loss',\n",
    "    verbose=1,\n",
    "    factor=0.1,\n",
    "    patience=5,\n",
    "    min_lr=1e-6\n",
    ")\n",
    "\n",
    "# Train model\n",
    "epochs = 200\n",
    "steps_per_epoch = len(train_generator)\n",
    "\n",
    "history = cnn_classifier.fit_generator(\n",
    "    train_generator, \n",
    "    steps_per_epoch=steps_per_epoch,\n",
    "    epochs=epochs,\n",
    "    callbacks=[tensorboard, checkpointer, early_stopping, reduce_lr],\n",
    "    validation_data=valid_generator,\n",
    "    validation_steps=len(valid_generator)\n",
    ")"
   ]
  },
  {
   "cell_type": "code",
   "execution_count": 0,
   "metadata": {
    "colab": {
     "base_uri": "https://localhost:8080/",
     "height": 52
    },
    "colab_type": "code",
    "executionInfo": {
     "elapsed": 45948,
     "status": "ok",
     "timestamp": 1558708585849,
     "user": {
      "displayName": "Vĩnh Nguyễn Mậu",
      "photoUrl": "https://lh3.googleusercontent.com/-AzQeUNPRcP8/AAAAAAAAAAI/AAAAAAAAAA0/alATI1ep5VU/s64/photo.jpg",
      "userId": "14863606540204610233"
     },
     "user_tz": -420
    },
    "id": "02XlcEIHo9vP",
    "outputId": "66623f95-f114-4613-8b86-20ec3b052773"
   },
   "outputs": [
    {
     "name": "stdout",
     "output_type": "stream",
     "text": [
      "400/400 [==============================] - 1s 3ms/step\n"
     ]
    },
    {
     "data": {
      "text/plain": [
       "[0.27537487864494326, 0.8975]"
      ]
     },
     "execution_count": 12,
     "metadata": {
      "tags": []
     },
     "output_type": "execute_result"
    }
   ],
   "source": [
    "# get score of best model\n",
    "cnn_classifier.evaluate(x_valid, keras.utils.to_categorical(y_valid))"
   ]
  },
  {
   "cell_type": "markdown",
   "metadata": {
    "colab_type": "text",
    "id": "-J4NOetlakVD"
   },
   "source": [
    "## Evaluate CNN extractor"
   ]
  },
  {
   "cell_type": "code",
   "execution_count": 0,
   "metadata": {
    "colab": {},
    "colab_type": "code",
    "id": "dTodbs_4aodq"
   },
   "outputs": [],
   "source": [
    "# build cnn_extractor\n",
    "cnn_extractor = models.build_cnn_extractor(cnn_classifier, features_layer='fc2')"
   ]
  },
  {
   "cell_type": "code",
   "execution_count": 0,
   "metadata": {
    "colab": {
     "base_uri": "https://localhost:8080/",
     "height": 34
    },
    "colab_type": "code",
    "executionInfo": {
     "elapsed": 6589,
     "status": "ok",
     "timestamp": 1558708709498,
     "user": {
      "displayName": "Vĩnh Nguyễn Mậu",
      "photoUrl": "https://lh3.googleusercontent.com/-AzQeUNPRcP8/AAAAAAAAAAI/AAAAAAAAAA0/alATI1ep5VU/s64/photo.jpg",
      "userId": "14863606540204610233"
     },
     "user_tz": -420
    },
    "id": "n00wUAXcmq90",
    "outputId": "b74a4e7b-18f0-4149-907f-f05e28d2115c"
   },
   "outputs": [
    {
     "name": "stdout",
     "output_type": "stream",
     "text": [
      "0.7790436353963364\n"
     ]
    }
   ],
   "source": [
    "# calculate mAP\n",
    "mAP_normal = experiment.mAP_normal(\n",
    "    extractor=cnn_extractor,\n",
    "    x=x_valid,\n",
    "    y=y_valid\n",
    ")\n",
    "print(mAP_normal)"
   ]
  },
  {
   "cell_type": "code",
   "execution_count": 0,
   "metadata": {
    "colab": {
     "base_uri": "https://localhost:8080/",
     "height": 34
    },
    "colab_type": "code",
    "executionInfo": {
     "elapsed": 176589,
     "status": "ok",
     "timestamp": 1558708880359,
     "user": {
      "displayName": "Vĩnh Nguyễn Mậu",
      "photoUrl": "https://lh3.googleusercontent.com/-AzQeUNPRcP8/AAAAAAAAAAI/AAAAAAAAAA0/alATI1ep5VU/s64/photo.jpg",
      "userId": "14863606540204610233"
     },
     "user_tz": -420
    },
    "id": "Il_LO7Gcmq-a",
    "outputId": "2d17379f-379d-466a-ba76-ff132af6d5e5"
   },
   "outputs": [
    {
     "name": "stdout",
     "output_type": "stream",
     "text": [
      "0.7793761307752766\n"
     ]
    }
   ],
   "source": [
    "mAP_kmeans = experiment.mAP_kmeans(\n",
    "    extractor=cnn_extractor,\n",
    "    x=x_valid,\n",
    "    y=y_valid\n",
    ")\n",
    "\n",
    "print(mAP_kmeans)"
   ]
  },
  {
   "cell_type": "code",
   "execution_count": 0,
   "metadata": {
    "colab": {
     "base_uri": "https://localhost:8080/",
     "height": 34
    },
    "colab_type": "code",
    "executionInfo": {
     "elapsed": 6003,
     "status": "ok",
     "timestamp": 1558708997373,
     "user": {
      "displayName": "Vĩnh Nguyễn Mậu",
      "photoUrl": "https://lh3.googleusercontent.com/-AzQeUNPRcP8/AAAAAAAAAAI/AAAAAAAAAA0/alATI1ep5VU/s64/photo.jpg",
      "userId": "14863606540204610233"
     },
     "user_tz": -420
    },
    "id": "O8-UAFo9lotS",
    "outputId": "1b473027-2923-4cfa-98b3-7db50e7150fc"
   },
   "outputs": [
    {
     "name": "stdout",
     "output_type": "stream",
     "text": [
      "0.865\n"
     ]
    }
   ],
   "source": [
    "mean_p_at_10 = experiment.mean_precision_at_k(\n",
    "    extractor=cnn_extractor,\n",
    "    x=x_valid,\n",
    "    y=y_valid,\n",
    "    k=10\n",
    ")\n",
    "\n",
    "print(mean_p_at_10)"
   ]
  },
  {
   "cell_type": "code",
   "execution_count": 0,
   "metadata": {
    "colab": {
     "base_uri": "https://localhost:8080/",
     "height": 34
    },
    "colab_type": "code",
    "executionInfo": {
     "elapsed": 7937,
     "status": "ok",
     "timestamp": 1558709000405,
     "user": {
      "displayName": "Vĩnh Nguyễn Mậu",
      "photoUrl": "https://lh3.googleusercontent.com/-AzQeUNPRcP8/AAAAAAAAAAI/AAAAAAAAAA0/alATI1ep5VU/s64/photo.jpg",
      "userId": "14863606540204610233"
     },
     "user_tz": -420
    },
    "id": "5UsoPgnHmq-6",
    "outputId": "db8bfc2a-40e0-4e55-fbb4-6ad49b395195"
   },
   "outputs": [
    {
     "name": "stdout",
     "output_type": "stream",
     "text": [
      "0.8435833333333334\n"
     ]
    }
   ],
   "source": [
    "mean_p_at_30 = experiment.mean_precision_at_k(\n",
    "    extractor=cnn_extractor,\n",
    "    x=x_valid,\n",
    "    y=y_valid,\n",
    "    k=30\n",
    ")\n",
    "\n",
    "print(mean_p_at_30)"
   ]
  },
  {
   "cell_type": "code",
   "execution_count": 0,
   "metadata": {
    "colab": {
     "base_uri": "https://localhost:8080/",
     "height": 34
    },
    "colab_type": "code",
    "executionInfo": {
     "elapsed": 10526,
     "status": "ok",
     "timestamp": 1558709004040,
     "user": {
      "displayName": "Vĩnh Nguyễn Mậu",
      "photoUrl": "https://lh3.googleusercontent.com/-AzQeUNPRcP8/AAAAAAAAAAI/AAAAAAAAAA0/alATI1ep5VU/s64/photo.jpg",
      "userId": "14863606540204610233"
     },
     "user_tz": -420
    },
    "id": "upowcb5GlgkT",
    "outputId": "0a5e147e-bfd3-41c3-aac7-19e62182c9c8"
   },
   "outputs": [
    {
     "name": "stdout",
     "output_type": "stream",
     "text": [
      "0.8305500000000001\n"
     ]
    }
   ],
   "source": [
    "mean_p_at_50 = experiment.mean_precision_at_k(\n",
    "    extractor=cnn_extractor,\n",
    "    x=x_valid,\n",
    "    y=y_valid,\n",
    "    k=50\n",
    ")\n",
    "\n",
    "print(mean_p_at_50)"
   ]
  },
  {
   "cell_type": "markdown",
   "metadata": {
    "colab_type": "text",
    "id": "mlEtkEXXvzh7"
   },
   "source": [
    "# POST TRAINING"
   ]
  },
  {
   "cell_type": "code",
   "execution_count": 0,
   "metadata": {
    "colab": {
     "base_uri": "https://localhost:8080/",
     "height": 472
    },
    "colab_type": "code",
    "executionInfo": {
     "elapsed": 5960,
     "status": "ok",
     "timestamp": 1558709004043,
     "user": {
      "displayName": "Vĩnh Nguyễn Mậu",
      "photoUrl": "https://lh3.googleusercontent.com/-AzQeUNPRcP8/AAAAAAAAAAI/AAAAAAAAAA0/alATI1ep5VU/s64/photo.jpg",
      "userId": "14863606540204610233"
     },
     "user_tz": -420
    },
    "id": "WH_FGvdYUDzH",
    "outputId": "815668a8-5ca0-40fe-80f0-7a02e247b6dd"
   },
   "outputs": [
    {
     "data": {
      "image/png": "[encoded data removed]",
      "text/plain": [
       "<Figure size 640x480 with 1 Axes>"
      ]
     },
     "metadata": {
      "tags": []
     },
     "output_type": "display_data"
    }
   ],
   "source": [
    "# show loss\n",
    "visualization.visualize_loss(history)"
   ]
  },
  {
   "cell_type": "code",
   "execution_count": 0,
   "metadata": {
    "colab": {},
    "colab_type": "code",
    "id": "bEIvXp_vWnlo"
   },
   "outputs": [],
   "source": [
    "# save model manually\n",
    "path = datetime_train + '.h5'\n",
    "cnn_classifier.save(path)"
   ]
  },
  {
   "cell_type": "markdown",
   "metadata": {
    "colab_type": "text",
    "id": "1ujZh_LBT73y"
   },
   "source": [
    "## [Optional] Copy logs folder"
   ]
  },
  {
   "cell_type": "code",
   "execution_count": 0,
   "metadata": {
    "colab": {},
    "colab_type": "code",
    "id": "TivtXXl0X90i"
   },
   "outputs": [],
   "source": [
    "# copy logs dir directly to google drive\n",
    "\n",
    "import shutil\n",
    "\n",
    "def copytree(src, dst, symlinks=False, ignore=None):\n",
    "    for item in os.listdir(src):\n",
    "        s = os.path.join(src, item)\n",
    "        d = os.path.join(dst, item)\n",
    "        if os.path.exists(d):\n",
    "          continue\n",
    "        if os.path.isdir(s):\n",
    "            shutil.copytree(s, d, symlinks, ignore)\n",
    "        else:\n",
    "            shutil.copy2(s, d)\n",
    "            \n",
    "src = LOGS_DIR\n",
    "dst = os.path.join(DISSERTATION_DIR, 'logs', trainer)\n",
    "copytree(src, dst)"
   ]
  },
  {
   "cell_type": "code",
   "execution_count": 0,
   "metadata": {
    "colab": {},
    "colab_type": "code",
    "id": "lZSD0sfsfJaq"
   },
   "outputs": [],
   "source": [
    "# save weight only\n",
    "path = datetime_train + '_weights' + '.h5'\n",
    "cnn_classifier.save_weights(path)"
   ]
  }
 ],
 "metadata": {
  "accelerator": "GPU",
  "colab": {
   "collapsed_sections": [],
   "name": "01-train-cnn-2019-05-24 21:06:53.ipynb",
   "provenance": [],
   "toc_visible": true,
   "version": "0.3.2"
  },
  "kernelspec": {
   "display_name": "Python 3",
   "language": "python",
   "name": "python3"
  },
  "language_info": {
   "codemirror_mode": {
    "name": "ipython",
    "version": 3
   },
   "file_extension": ".py",
   "mimetype": "text/x-python",
   "name": "python",
   "nbconvert_exporter": "python",
   "pygments_lexer": "ipython3",
   "version": "3.6.7"
  }
 },
 "nbformat": 4,
 "nbformat_minor": 1
}
