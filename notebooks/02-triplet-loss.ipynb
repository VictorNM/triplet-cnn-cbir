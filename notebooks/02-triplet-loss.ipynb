{
 "cells": [
  {
   "cell_type": "markdown",
   "metadata": {
    "colab_type": "text",
    "id": "hWsHvOsXbaoq"
   },
   "source": [
    "# SETUP"
   ]
  },
  {
   "cell_type": "code",
   "execution_count": 0,
   "metadata": {
    "colab": {},
    "colab_type": "code",
    "id": "2DdlufmlvyFL"
   },
   "outputs": [],
   "source": [
    "GDRIVE_ROOT = '/content/gdrive'\n",
    "trainer = 'Vinh'"
   ]
  },
  {
   "cell_type": "code",
   "execution_count": 2,
   "metadata": {
    "colab": {
     "base_uri": "https://localhost:8080/",
     "height": 34
    },
    "colab_type": "code",
    "executionInfo": {
     "elapsed": 4867,
     "status": "ok",
     "timestamp": 1558876166965,
     "user": {
      "displayName": "Vĩnh Nguyễn Mậu",
      "photoUrl": "https://lh3.googleusercontent.com/-AzQeUNPRcP8/AAAAAAAAAAI/AAAAAAAAAA0/alATI1ep5VU/s64/photo.jpg",
      "userId": "14863606540204610233"
     },
     "user_tz": -420
    },
    "id": "lqrTgFC_WNzZ",
    "outputId": "fc4c437c-eccb-49d6-b86c-69619ae19499"
   },
   "outputs": [
    {
     "name": "stdout",
     "output_type": "stream",
     "text": [
      "Mounted at /content/gdrive\n"
     ]
    }
   ],
   "source": [
    "from google.colab import drive\n",
    "drive.mount(GDRIVE_ROOT, force_remount=True)"
   ]
  },
  {
   "cell_type": "code",
   "execution_count": 3,
   "metadata": {
    "colab": {
     "base_uri": "https://localhost:8080/",
     "height": 139
    },
    "colab_type": "code",
    "executionInfo": {
     "elapsed": 16893,
     "status": "ok",
     "timestamp": 1558876179032,
     "user": {
      "displayName": "Vĩnh Nguyễn Mậu",
      "photoUrl": "https://lh3.googleusercontent.com/-AzQeUNPRcP8/AAAAAAAAAAI/AAAAAAAAAA0/alATI1ep5VU/s64/photo.jpg",
      "userId": "14863606540204610233"
     },
     "user_tz": -420
    },
    "id": "TZrFjizUsl4D",
    "outputId": "0b1e8133-fe5c-4d17-be4c-2b8e97290d17"
   },
   "outputs": [
    {
     "name": "stdout",
     "output_type": "stream",
     "text": [
      "Cloning into 'triplet-cnn-cbir'...\n",
      "remote: Enumerating objects: 8, done.\u001b[K\n",
      "remote: Counting objects: 100% (8/8), done.\u001b[K\n",
      "remote: Compressing objects: 100% (6/6), done.\u001b[K\n",
      "remote: Total 897 (delta 2), reused 4 (delta 2), pack-reused 889\u001b[K\n",
      "Receiving objects: 100% (897/897), 59.16 MiB | 11.54 MiB/s, done.\n",
      "Resolving deltas: 100% (527/527), done.\n"
     ]
    }
   ],
   "source": [
    "!rm -r triplet-cnn-cbir\n",
    "!git clone https://github.com/VictorNM/triplet-cnn-cbir.git"
   ]
  },
  {
   "cell_type": "code",
   "execution_count": 4,
   "metadata": {
    "colab": {
     "base_uri": "https://localhost:8080/",
     "height": 34
    },
    "colab_type": "code",
    "executionInfo": {
     "elapsed": 19074,
     "status": "ok",
     "timestamp": 1558876181250,
     "user": {
      "displayName": "Vĩnh Nguyễn Mậu",
      "photoUrl": "https://lh3.googleusercontent.com/-AzQeUNPRcP8/AAAAAAAAAAI/AAAAAAAAAA0/alATI1ep5VU/s64/photo.jpg",
      "userId": "14863606540204610233"
     },
     "user_tz": -420
    },
    "id": "3ZnPRqyeY4eG",
    "outputId": "f5790672-6dcb-4212-d5a5-028f040d792a"
   },
   "outputs": [
    {
     "name": "stderr",
     "output_type": "stream",
     "text": [
      "Using TensorFlow backend.\n"
     ]
    }
   ],
   "source": [
    "import sys\n",
    "sys.path.append('triplet-cnn-cbir')\n",
    "\n",
    "import os\n",
    "import numpy as np\n",
    "\n",
    "import keras\n",
    "from keras.preprocessing.image import ImageDataGenerator\n",
    "from keras.models import Model, load_model\n",
    "from keras.layers import Input\n",
    "from keras.optimizers import SGD\n",
    "from keras.utils import Sequence\n",
    "\n",
    "from src import data, models, visualization, utils, callbacks, experiment, triplet"
   ]
  },
  {
   "cell_type": "markdown",
   "metadata": {
    "colab_type": "text",
    "id": "VZzyXl_wbdx2"
   },
   "source": [
    "# RUN"
   ]
  },
  {
   "cell_type": "markdown",
   "metadata": {
    "colab_type": "text",
    "id": "t6kH9k-W0RaL"
   },
   "source": [
    "## Define parameters"
   ]
  },
  {
   "cell_type": "code",
   "execution_count": 0,
   "metadata": {
    "colab": {},
    "colab_type": "code",
    "id": "MtJJIfa30Q1d"
   },
   "outputs": [],
   "source": [
    "DISSERTATION_ROOT = os.path.join(GDRIVE_ROOT, 'My Drive/bku-dissertation')\n",
    "DATA_ROOT = os.path.join(DISSERTATION_ROOT, 'data')\n",
    "DATASET_NAME = '_2_fan_kettle_600_200_200'\n",
    "\n",
    "\n",
    "input_size = (224, 224)\n",
    "margin = 0.2\n",
    "features_layer = 'fc2'"
   ]
  },
  {
   "cell_type": "markdown",
   "metadata": {
    "colab_type": "text",
    "id": "sjLjs6dX0pHe"
   },
   "source": [
    "## Prepare data"
   ]
  },
  {
   "cell_type": "code",
   "execution_count": 6,
   "metadata": {
    "colab": {
     "base_uri": "https://localhost:8080/",
     "height": 52
    },
    "colab_type": "code",
    "executionInfo": {
     "elapsed": 21143,
     "status": "ok",
     "timestamp": 1558876183380,
     "user": {
      "displayName": "Vĩnh Nguyễn Mậu",
      "photoUrl": "https://lh3.googleusercontent.com/-AzQeUNPRcP8/AAAAAAAAAAI/AAAAAAAAAA0/alATI1ep5VU/s64/photo.jpg",
      "userId": "14863606540204610233"
     },
     "user_tz": -420
    },
    "id": "hp6BwtRDKGm1",
    "outputId": "7c7425dc-faf9-44d1-ca4e-4c1fb5c64b66"
   },
   "outputs": [
    {
     "name": "stdout",
     "output_type": "stream",
     "text": [
      "Found 400 images belonging to 2 classes.\n",
      "Classes: ['fan', 'kettle']\n"
     ]
    }
   ],
   "source": [
    "# load x_valid, y_valid for evaluate\n",
    "valid_path = os.path.join(DATA_ROOT, 'raw', DATASET_NAME, 'valid')\n",
    "\n",
    "valid_datagen = ImageDataGenerator(rescale=1./255)\n",
    "valid_generator = valid_datagen.flow_from_directory(valid_path, input_size)\n",
    "\n",
    "x_valid, y_valid = data.convert_generator_to_data(valid_generator)\n",
    "\n",
    "# get name of classes\n",
    "classes = [[] for i in range(valid_generator.num_classes)]\n",
    "for k, v in valid_generator.class_indices.items():\n",
    "  classes[v] = k\n",
    "  \n",
    "print('Classes:', classes)"
   ]
  },
  {
   "cell_type": "markdown",
   "metadata": {
    "colab_type": "text",
    "id": "mmlTudvvbf-p"
   },
   "source": [
    "## Load CNN"
   ]
  },
  {
   "cell_type": "code",
   "execution_count": 7,
   "metadata": {
    "colab": {
     "base_uri": "https://localhost:8080/",
     "height": 193
    },
    "colab_type": "code",
    "collapsed": true,
    "executionInfo": {
     "elapsed": 27028,
     "status": "ok",
     "timestamp": 1558876189296,
     "user": {
      "displayName": "Vĩnh Nguyễn Mậu",
      "photoUrl": "https://lh3.googleusercontent.com/-AzQeUNPRcP8/AAAAAAAAAAI/AAAAAAAAAA0/alATI1ep5VU/s64/photo.jpg",
      "userId": "14863606540204610233"
     },
     "user_tz": -420
    },
    "id": "S78zsqUzWdpi",
    "outputId": "abb648be-f86c-4a52-cfd8-f4101dfc80b6"
   },
   "outputs": [
    {
     "name": "stdout",
     "output_type": "stream",
     "text": [
      "WARNING:tensorflow:From /usr/local/lib/python3.6/dist-packages/tensorflow/python/framework/op_def_library.py:263: colocate_with (from tensorflow.python.framework.ops) is deprecated and will be removed in a future version.\n",
      "Instructions for updating:\n",
      "Colocations handled automatically by placer.\n",
      "WARNING:tensorflow:From /usr/local/lib/python3.6/dist-packages/keras/backend/tensorflow_backend.py:3445: calling dropout (from tensorflow.python.ops.nn_ops) with keep_prob is deprecated and will be removed in a future version.\n",
      "Instructions for updating:\n",
      "Please use `rate` instead of `keep_prob`. Rate should be set to `rate = 1 - keep_prob`.\n",
      "WARNING:tensorflow:From /usr/local/lib/python3.6/dist-packages/tensorflow/python/ops/math_ops.py:3066: to_int32 (from tensorflow.python.ops.math_ops) is deprecated and will be removed in a future version.\n",
      "Instructions for updating:\n",
      "Use tf.cast instead.\n"
     ]
    }
   ],
   "source": [
    "cnn_name = '2019-05-24 21:06:53'\n",
    "cnn_path = os.path.join(DISSERTATION_ROOT, 'model', trainer, cnn_name + '.h5')\n",
    "cnn_classifier = load_model(cnn_path)"
   ]
  },
  {
   "cell_type": "markdown",
   "metadata": {
    "colab_type": "text",
    "id": "ormH4OHI14Jq"
   },
   "source": [
    "## Evaluate before train with triplet loss"
   ]
  },
  {
   "cell_type": "code",
   "execution_count": 8,
   "metadata": {
    "colab": {
     "base_uri": "https://localhost:8080/",
     "height": 52
    },
    "colab_type": "code",
    "collapsed": true,
    "executionInfo": {
     "elapsed": 6239,
     "status": "ok",
     "timestamp": 1558872028024,
     "user": {
      "displayName": "Vĩnh Nguyễn Mậu",
      "photoUrl": "https://lh3.googleusercontent.com/-AzQeUNPRcP8/AAAAAAAAAAI/AAAAAAAAAA0/alATI1ep5VU/s64/photo.jpg",
      "userId": "14863606540204610233"
     },
     "user_tz": -420
    },
    "id": "Syh_92iKI0Sd",
    "outputId": "714730b3-a54e-405b-bf7e-6373036d354b"
   },
   "outputs": [
    {
     "name": "stdout",
     "output_type": "stream",
     "text": [
      "400/400 [==============================] - 5s 13ms/step\n"
     ]
    },
    {
     "data": {
      "text/plain": [
       "[0.27537485778331755, 0.8975]"
      ]
     },
     "execution_count": 8,
     "metadata": {
      "tags": []
     },
     "output_type": "execute_result"
    }
   ],
   "source": [
    "cnn_classifier.evaluate(x_valid, keras.utils.to_categorical(y_valid, 2))"
   ]
  },
  {
   "cell_type": "code",
   "execution_count": 0,
   "metadata": {
    "colab": {},
    "colab_type": "code",
    "id": "mlausluqWpBu"
   },
   "outputs": [],
   "source": [
    "cnn_extractor = models.build_cnn_extractor(cnn_classifier, features_layer='fc2')"
   ]
  },
  {
   "cell_type": "code",
   "execution_count": 0,
   "metadata": {
    "colab": {
     "base_uri": "https://localhost:8080/",
     "height": 34
    },
    "colab_type": "code",
    "collapsed": true,
    "executionInfo": {
     "elapsed": 272008,
     "status": "ok",
     "timestamp": 1558805150922,
     "user": {
      "displayName": "Vĩnh Nguyễn Mậu",
      "photoUrl": "https://lh3.googleusercontent.com/-AzQeUNPRcP8/AAAAAAAAAAI/AAAAAAAAAA0/alATI1ep5VU/s64/photo.jpg",
      "userId": "14863606540204610233"
     },
     "user_tz": -420
    },
    "id": "jGkEHY2kuQj_",
    "outputId": "61eee6fb-76c6-48f3-92d8-53141dbe67cf"
   },
   "outputs": [
    {
     "name": "stdout",
     "output_type": "stream",
     "text": [
      "0.7790436353963364\n"
     ]
    }
   ],
   "source": [
    "mAP_normal = experiment.mAP_normal(\n",
    "    extractor=cnn_extractor,\n",
    "    x=x_valid,\n",
    "    y=y_valid\n",
    ")\n",
    "print(mAP_normal)"
   ]
  },
  {
   "cell_type": "code",
   "execution_count": 0,
   "metadata": {
    "colab": {},
    "colab_type": "code",
    "id": "yiEv04u4uUxR"
   },
   "outputs": [],
   "source": [
    "mAP_kmeans = experiment.mAP_kmeans(\n",
    "    extractor=cnn_extractor,\n",
    "    x=x_valid,\n",
    "    y=y_valid\n",
    ")\n",
    "print(mAP_kmeans)"
   ]
  },
  {
   "cell_type": "code",
   "execution_count": 11,
   "metadata": {
    "colab": {
     "base_uri": "https://localhost:8080/",
     "height": 104
    },
    "colab_type": "code",
    "collapsed": true,
    "executionInfo": {
     "elapsed": 15551,
     "status": "ok",
     "timestamp": 1558865933504,
     "user": {
      "displayName": "Vĩnh Nguyễn Mậu",
      "photoUrl": "https://lh3.googleusercontent.com/-AzQeUNPRcP8/AAAAAAAAAAI/AAAAAAAAAA0/alATI1ep5VU/s64/photo.jpg",
      "userId": "14863606540204610233"
     },
     "user_tz": -420
    },
    "id": "nDY4VNPWG28f",
    "outputId": "30f323e2-ed0f-4d9c-f579-752a534b9421"
   },
   "outputs": [
    {
     "name": "stdout",
     "output_type": "stream",
     "text": [
      "0.865\n",
      "0.850625\n",
      "0.8435833333333335\n",
      "0.839625\n",
      "0.8305500000000001\n"
     ]
    }
   ],
   "source": [
    "ks = [10, 20, 30, 40, 50]\n",
    "for k in ks:\n",
    "  mean_precision_at_k_normal = experiment.mean_precision_at_k(cnn_extractor, x_valid, y_valid, k)\n",
    "  print(mean_precision_at_k_normal)"
   ]
  },
  {
   "cell_type": "code",
   "execution_count": 12,
   "metadata": {
    "colab": {
     "base_uri": "https://localhost:8080/",
     "height": 104
    },
    "colab_type": "code",
    "collapsed": true,
    "executionInfo": {
     "elapsed": 856184,
     "status": "ok",
     "timestamp": 1558866775630,
     "user": {
      "displayName": "Vĩnh Nguyễn Mậu",
      "photoUrl": "https://lh3.googleusercontent.com/-AzQeUNPRcP8/AAAAAAAAAAI/AAAAAAAAAA0/alATI1ep5VU/s64/photo.jpg",
      "userId": "14863606540204610233"
     },
     "user_tz": -420
    },
    "id": "RG7JDACkHIAY",
    "outputId": "331c07ed-3c9e-4bab-ee5c-e819acc22cb9"
   },
   "outputs": [
    {
     "name": "stdout",
     "output_type": "stream",
     "text": [
      "0.8634999999999999\n",
      "0.8504999999999999\n",
      "0.8426666666666668\n",
      "0.8383125\n",
      "0.8294\n"
     ]
    }
   ],
   "source": [
    "for k in ks:\n",
    "  mean_precision_at_k_kmeans = experiment.mean_precision_at_k_kmeans(cnn_extractor, x_valid, y_valid, k)\n",
    "  print(mean_precision_at_k_kmeans)"
   ]
  },
  {
   "cell_type": "markdown",
   "metadata": {
    "colab_type": "text",
    "id": "ULjztOHG1-LA"
   },
   "source": [
    "## Train with triplet loss"
   ]
  },
  {
   "cell_type": "code",
   "execution_count": 0,
   "metadata": {
    "colab": {},
    "colab_type": "code",
    "id": "Dw1-cyec2BDj"
   },
   "outputs": [],
   "source": [
    "# build triplet model\n",
    "triplet_extractor = models.build_triplet_extractor(\n",
    "    cnn_classifier,\n",
    "    margin=margin,\n",
    "    features_layer=features_layer\n",
    ")"
   ]
  },
  {
   "cell_type": "code",
   "execution_count": 9,
   "metadata": {
    "colab": {
     "base_uri": "https://localhost:8080/",
     "height": 52
    },
    "colab_type": "code",
    "executionInfo": {
     "elapsed": 5389,
     "status": "ok",
     "timestamp": 1558876189700,
     "user": {
      "displayName": "Vĩnh Nguyễn Mậu",
      "photoUrl": "https://lh3.googleusercontent.com/-AzQeUNPRcP8/AAAAAAAAAAI/AAAAAAAAAA0/alATI1ep5VU/s64/photo.jpg",
      "userId": "14863606540204610233"
     },
     "user_tz": -420
    },
    "id": "_UkSqqRJ34up",
    "outputId": "4b095f61-51e6-48b9-b61f-879f7562d718"
   },
   "outputs": [
    {
     "name": "stdout",
     "output_type": "stream",
     "text": [
      "Found 600 images belonging to 1 classes.\n",
      "Found 600 images belonging to 1 classes.\n"
     ]
    }
   ],
   "source": [
    "# load data for training\n",
    "train_triplet_generator = triplet.TripletGenerator(\n",
    "    extractor = triplet_extractor.get_layer('extractor'),\n",
    "    margin=margin,\n",
    "    directory=os.path.join(DATA_ROOT, 'raw', DATASET_NAME, 'train'),\n",
    "    batch_size=32\n",
    ")"
   ]
  },
  {
   "cell_type": "code",
   "execution_count": 10,
   "metadata": {
    "colab": {
     "base_uri": "https://localhost:8080/",
     "height": 52
    },
    "colab_type": "code",
    "executionInfo": {
     "elapsed": 3755,
     "status": "ok",
     "timestamp": 1558876189713,
     "user": {
      "displayName": "Vĩnh Nguyễn Mậu",
      "photoUrl": "https://lh3.googleusercontent.com/-AzQeUNPRcP8/AAAAAAAAAAI/AAAAAAAAAA0/alATI1ep5VU/s64/photo.jpg",
      "userId": "14863606540204610233"
     },
     "user_tz": -420
    },
    "id": "xzU4g_yH-Uzz",
    "outputId": "a57f8437-ff08-4e89-a17d-0fbe3a12b3b0"
   },
   "outputs": [
    {
     "name": "stdout",
     "output_type": "stream",
     "text": [
      "Found 200 images belonging to 1 classes.\n",
      "Found 200 images belonging to 1 classes.\n"
     ]
    }
   ],
   "source": [
    "# load data for testing\n",
    "valid_triplet_generator = triplet.TripletGenerator(\n",
    "    extractor = triplet_extractor.get_layer('extractor'),\n",
    "    margin=margin,\n",
    "    directory=os.path.join(DATA_ROOT, 'raw', DATASET_NAME, 'valid'),\n",
    "    batch_size=32\n",
    ")"
   ]
  },
  {
   "cell_type": "code",
   "execution_count": 0,
   "metadata": {
    "colab": {},
    "colab_type": "code",
    "id": "stbvsK1ZXrVe"
   },
   "outputs": [],
   "source": [
    "# compile model\n",
    "optimizer_params = {\n",
    "    \"lr\": 0.01,\n",
    "    \"momentum\": 0.9\n",
    "}\n",
    "\n",
    "opt = SGD(**optimizer_params)\n",
    "\n",
    "triplet_extractor.compile(loss=None, optimizer=opt)"
   ]
  },
  {
   "cell_type": "code",
   "execution_count": 12,
   "metadata": {
    "colab": {
     "base_uri": "https://localhost:8080/",
     "height": 364
    },
    "colab_type": "code",
    "collapsed": true,
    "executionInfo": {
     "elapsed": 682683,
     "status": "ok",
     "timestamp": 1558876895539,
     "user": {
      "displayName": "Vĩnh Nguyễn Mậu",
      "photoUrl": "https://lh3.googleusercontent.com/-AzQeUNPRcP8/AAAAAAAAAAI/AAAAAAAAAA0/alATI1ep5VU/s64/photo.jpg",
      "userId": "14863606540204610233"
     },
     "user_tz": -420
    },
    "id": "HnPGqAXDBEIQ",
    "outputId": "50d955a1-62d5-42f1-a6f6-d0a2d09b7d3a"
   },
   "outputs": [
    {
     "name": "stdout",
     "output_type": "stream",
     "text": [
      "Epoch 1/10\n",
      "19/19 [==============================] - 85s 4s/step - loss: 0.2129 - val_loss: 0.2369\n",
      "Epoch 2/10\n",
      "19/19 [==============================] - 66s 3s/step - loss: 0.2129 - val_loss: 0.2346\n",
      "Epoch 3/10\n",
      "19/19 [==============================] - 66s 3s/step - loss: 0.2120 - val_loss: 0.2357\n",
      "Epoch 4/10\n",
      "19/19 [==============================] - 68s 4s/step - loss: 0.2121 - val_loss: 0.2332\n",
      "Epoch 5/10\n",
      "19/19 [==============================] - 65s 3s/step - loss: 0.2109 - val_loss: 0.2306\n",
      "Epoch 6/10\n",
      "19/19 [==============================] - 65s 3s/step - loss: 0.2110 - val_loss: 0.2306\n",
      "Epoch 7/10\n",
      "19/19 [==============================] - 73s 4s/step - loss: 0.2087 - val_loss: 0.2318\n",
      "Epoch 8/10\n",
      "19/19 [==============================] - 62s 3s/step - loss: 0.2088 - val_loss: 0.2309\n",
      "Epoch 9/10\n",
      "19/19 [==============================] - 65s 3s/step - loss: 0.2081 - val_loss: 0.2312\n",
      "Epoch 10/10\n",
      "19/19 [==============================] - 66s 3s/step - loss: 0.2068 - val_loss: 0.2296\n"
     ]
    }
   ],
   "source": [
    "history = triplet_extractor.fit_generator(\n",
    "      train_triplet_generator, \n",
    "      epochs=10, \n",
    "      validation_data=valid_triplet_generator\n",
    ")"
   ]
  },
  {
   "cell_type": "markdown",
   "metadata": {
    "colab_type": "text",
    "id": "o7_UleUn_Fuh"
   },
   "source": [
    "## Evaluate triplet model"
   ]
  },
  {
   "cell_type": "code",
   "execution_count": 15,
   "metadata": {
    "colab": {
     "base_uri": "https://localhost:8080/",
     "height": 34
    },
    "colab_type": "code",
    "executionInfo": {
     "elapsed": 4927,
     "status": "ok",
     "timestamp": 1558876992573,
     "user": {
      "displayName": "Vĩnh Nguyễn Mậu",
      "photoUrl": "https://lh3.googleusercontent.com/-AzQeUNPRcP8/AAAAAAAAAAI/AAAAAAAAAA0/alATI1ep5VU/s64/photo.jpg",
      "userId": "14863606540204610233"
     },
     "user_tz": -420
    },
    "id": "knx3Vi3z2tg4",
    "outputId": "1853396e-78b5-4855-bddd-9bf7897a4241",
    "scrolled": true
   },
   "outputs": [
    {
     "name": "stdout",
     "output_type": "stream",
     "text": [
      "0.8019843952696243\n"
     ]
    }
   ],
   "source": [
    "mAP_normal = experiment.mAP_normal(\n",
    "    extractor=triplet_extractor.get_layer('extractor'),\n",
    "    x=x_valid,\n",
    "    y=y_valid\n",
    ")\n",
    "print(mAP_normal)"
   ]
  },
  {
   "cell_type": "code",
   "execution_count": 17,
   "metadata": {
    "colab": {
     "base_uri": "https://localhost:8080/",
     "height": 34
    },
    "colab_type": "code",
    "executionInfo": {
     "elapsed": 180557,
     "status": "ok",
     "timestamp": 1558877210201,
     "user": {
      "displayName": "Vĩnh Nguyễn Mậu",
      "photoUrl": "https://lh3.googleusercontent.com/-AzQeUNPRcP8/AAAAAAAAAAI/AAAAAAAAAA0/alATI1ep5VU/s64/photo.jpg",
      "userId": "14863606540204610233"
     },
     "user_tz": -420
    },
    "id": "XaIY_9gJ2thO",
    "outputId": "ee3f5907-b473-4eac-dcc4-76b8125ca8f5"
   },
   "outputs": [
    {
     "name": "stdout",
     "output_type": "stream",
     "text": [
      "0.8007959839100355\n"
     ]
    }
   ],
   "source": [
    "mAP_kmeans = experiment.mAP_kmeans(\n",
    "    extractor=triplet_extractor.get_layer('extractor'),\n",
    "    x=x_valid,\n",
    "    y=y_valid\n",
    ")\n",
    "print(mAP_kmeans)"
   ]
  },
  {
   "cell_type": "code",
   "execution_count": 16,
   "metadata": {
    "colab": {
     "base_uri": "https://localhost:8080/",
     "height": 104
    },
    "colab_type": "code",
    "executionInfo": {
     "elapsed": 15812,
     "status": "ok",
     "timestamp": 1558877009444,
     "user": {
      "displayName": "Vĩnh Nguyễn Mậu",
      "photoUrl": "https://lh3.googleusercontent.com/-AzQeUNPRcP8/AAAAAAAAAAI/AAAAAAAAAA0/alATI1ep5VU/s64/photo.jpg",
      "userId": "14863606540204610233"
     },
     "user_tz": -420
    },
    "id": "O8-UAFo9lotS",
    "outputId": "8b0e0135-4cf6-44b3-aacd-c8c1f86b0b6b"
   },
   "outputs": [
    {
     "name": "stdout",
     "output_type": "stream",
     "text": [
      "0.8719999999999999\n",
      "0.8615\n",
      "0.85875\n",
      "0.8542499999999998\n",
      "0.8486\n"
     ]
    }
   ],
   "source": [
    "ks = [10, 20, 30, 40, 50]\n",
    "for k in ks:\n",
    "  mean_precision_at_k_normal = experiment.mean_precision_at_k(triplet_extractor.get_layer('extractor'), x_valid, y_valid, k)\n",
    "  print(mean_precision_at_k_normal)"
   ]
  },
  {
   "cell_type": "code",
   "execution_count": 18,
   "metadata": {
    "colab": {
     "base_uri": "https://localhost:8080/",
     "height": 104
    },
    "colab_type": "code",
    "executionInfo": {
     "elapsed": 1024628,
     "status": "ok",
     "timestamp": 1558878097071,
     "user": {
      "displayName": "Vĩnh Nguyễn Mậu",
      "photoUrl": "https://lh3.googleusercontent.com/-AzQeUNPRcP8/AAAAAAAAAAI/AAAAAAAAAA0/alATI1ep5VU/s64/photo.jpg",
      "userId": "14863606540204610233"
     },
     "user_tz": -420
    },
    "id": "5UsoPgnHmq-6",
    "outputId": "5520fa0d-8dbe-459a-b5a8-cfc9d4837eac"
   },
   "outputs": [
    {
     "name": "stdout",
     "output_type": "stream",
     "text": [
      "0.87075\n",
      "0.86125\n",
      "0.8582500000000002\n",
      "0.8526250000000001\n",
      "0.8473\n"
     ]
    }
   ],
   "source": [
    "for k in ks:\n",
    "  mean_precision_at_k_kmeans = experiment.mean_precision_at_k_kmeans(triplet_extractor.get_layer('extractor'), x_valid, y_valid, k)\n",
    "  print(mean_precision_at_k_kmeans)"
   ]
  },
  {
   "cell_type": "markdown",
   "metadata": {
    "colab_type": "text",
    "id": "-TKIjPTN_Oee"
   },
   "source": [
    "# POST TRAINING"
   ]
  },
  {
   "cell_type": "code",
   "execution_count": 0,
   "metadata": {
    "colab": {},
    "colab_type": "code",
    "id": "zEYqQCeJmbHP"
   },
   "outputs": [],
   "source": [
    "# save model\n",
    "final_extractor = triplet_extractor.get_layer('extractor')\n",
    "# path = 'triplet-' + cnn_name\n",
    "final_extractor.save('/content/gdrive/My Drive/bku-dissertation/model/Vinh/triplet-2019-05-24 21:06:53.h5')"
   ]
  }
 ],
 "metadata": {
  "accelerator": "GPU",
  "colab": {
   "collapsed_sections": [],
   "name": "03-triplet-loss.ipynb",
   "provenance": [],
   "toc_visible": true,
   "version": "0.3.2"
  },
  "kernelspec": {
   "display_name": "Python 3",
   "language": "python",
   "name": "python3"
  },
  "language_info": {
   "codemirror_mode": {
    "name": "ipython",
    "version": 3
   },
   "file_extension": ".py",
   "mimetype": "text/x-python",
   "name": "python",
   "nbconvert_exporter": "python",
   "pygments_lexer": "ipython3",
   "version": "3.6.7"
  }
 },
 "nbformat": 4,
 "nbformat_minor": 1
}
